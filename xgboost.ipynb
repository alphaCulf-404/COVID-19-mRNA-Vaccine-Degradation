{
 "cells": [
  {
   "cell_type": "markdown",
   "id": "2837e7bc",
   "metadata": {
    "papermill": {
     "duration": 0.038981,
     "end_time": "2022-01-07T02:46:12.437053",
     "exception": false,
     "start_time": "2022-01-07T02:46:12.398072",
     "status": "completed"
    },
    "tags": []
   },
   "source": [
    "### OpenVaccine - Stanford University - XGBoost\n",
    "The following notebook constructs an XGBoost regression model to predict the degradation rate of mRNA molecules in the OpenVaccine competition held by Stanford University. "
   ]
  },
  {
   "cell_type": "markdown",
   "id": "0de9da54",
   "metadata": {
    "papermill": {
     "duration": 0.036899,
     "end_time": "2022-01-07T02:46:12.513312",
     "exception": false,
     "start_time": "2022-01-07T02:46:12.476413",
     "status": "completed"
    },
    "tags": []
   },
   "source": [
    "#### 0. Import Libraries"
   ]
  },
  {
   "cell_type": "code",
   "execution_count": 1,
   "id": "6b989528",
   "metadata": {
    "execution": {
     "iopub.execute_input": "2022-01-07T02:46:12.600567Z",
     "iopub.status.busy": "2022-01-07T02:46:12.599776Z",
     "iopub.status.idle": "2022-01-07T02:47:56.706523Z",
     "shell.execute_reply": "2022-01-07T02:47:56.705800Z",
     "shell.execute_reply.started": "2022-01-06T16:53:07.410452Z"
    },
    "papermill": {
     "duration": 104.156131,
     "end_time": "2022-01-07T02:47:56.706710",
     "exception": false,
     "start_time": "2022-01-07T02:46:12.550579",
     "status": "completed"
    },
    "tags": []
   },
   "outputs": [
    {
     "name": "stdout",
     "output_type": "stream",
     "text": [
      "\u001b[33mWARNING: Running pip as the 'root' user can result in broken permissions and conflicting behaviour with the system package manager. It is recommended to use a virtual environment instead: https://pip.pypa.io/warnings/venv\u001b[0m\r\n",
      "Collecting package metadata (current_repodata.json): - \b\b\\ \b\b| \b\b/ \b\b- \b\b\\ \b\b| \b\b/ \b\b- \b\b\\ \b\b| \b\b/ \b\b- \b\b\\ \b\b| \b\b/ \b\b- \b\b\\ \b\b| \b\b/ \b\b- \b\b\\ \b\b| \b\b/ \b\b- \b\b\\ \b\b| \b\b/ \b\b- \b\b\\ \b\b| \b\b/ \b\b- \b\b\\ \b\b| \b\b/ \b\b- \b\b\\ \b\b| \b\b/ \b\b- \b\b\\ \b\b| \b\b/ \b\b- \b\b\\ \b\b| \b\b/ \b\b- \b\b\\ \b\b| \b\b/ \b\b- \b\b\\ \b\b| \b\b/ \b\b- \b\b\\ \b\b| \b\b/ \b\b- \b\b\\ \b\b| \b\b/ \b\b- \b\b\\ \b\b| \b\b/ \b\b- \b\b\\ \b\b| \b\b/ \b\b- \b\b\\ \b\b| \b\b/ \b\b- \b\b\\ \b\b| \b\b/ \b\b- \b\b\\ \b\b| \b\b/ \b\b- \b\b\\ \b\b| \b\b/ \b\b- \b\b\\ \b\b| \b\b/ \b\b- \b\b\\ \b\b| \b\b/ \b\b- \b\b\\ \b\b| \b\b/ \b\b- \b\b\\ \b\b| \b\b/ \b\b- \b\b\\ \b\b| \b\b/ \b\b- \b\b\\ \b\b| \b\b/ \b\b- \b\b\\ \b\b| \b\b/ \b\b- \b\b\\ \b\b| \b\b/ \b\b- \b\b\\ \b\b| \b\b/ \b\b- \b\b\\ \b\b| \b\b/ \b\b- \b\b\\ \b\b| \b\b/ \b\b- \b\b\\ \b\b| \b\b/ \b\b- \b\b\\ \b\b| \b\b/ \b\b- \b\b\\ \b\b| \b\b/ \b\b- \b\b\\ \b\b| \b\b/ \b\b- \b\b\\ \b\b| \b\b/ \b\b- \b\b\\ \b\b| \b\b/ \b\b- \b\b\\ \b\b| \b\b/ \b\b- \b\b\\ \b\b| \b\b/ \b\b- \b\b\\ \b\b| \b\b/ \b\b- \b\b\\ \b\b| \b\b/ \b\b- \b\b\\ \b\b| \b\b/ \b\bdone\r\n",
      "Solving environment: \\ \b\b| \b\b/ \b\b- \b\b\\ \b\b| \b\b/ \b\b- \b\b\\ \b\b| \b\b/ \b\b- \b\b\\ \b\b| \b\b/ \b\b- \b\b\\ \b\b| \b\b/ \b\b- \b\b\\ \b\b| \b\b/ \b\b- \b\b\\ \b\b| \b\b/ \b\b- \b\b\\ \b\b| \b\b/ \b\b- \b\b\\ \b\b| \b\b/ \b\b- \b\b\\ \b\b| \b\b/ \b\b- \b\b\\ \b\b| \b\b/ \b\b- \b\b\\ \b\b| \b\b/ \b\b- \b\b\\ \b\b| \b\b/ \b\b- \b\b\\ \b\b| \b\b/ \b\b- \b\b\\ \b\b| \b\b/ \b\b- \b\b\\ \b\b| \b\b/ \b\b- \b\b\\ \b\b| \b\b/ \b\b- \b\b\\ \b\b| \b\b/ \b\b- \b\b\\ \b\b| \b\b/ \b\b- \b\b\\ \b\b| \b\bdone\r\n",
      "\r\n",
      "## Package Plan ##\r\n",
      "\r\n",
      "  environment location: /opt/conda\r\n",
      "\r\n",
      "  added / updated specs:\r\n",
      "    - viennarna\r\n",
      "\r\n",
      "\r\n",
      "The following packages will be downloaded:\r\n",
      "\r\n",
      "    package                    |            build\r\n",
      "    ---------------------------|-----------------\r\n",
      "    viennarna-2.5.0            |   py37hfecc14a_0        16.8 MB  bioconda\r\n",
      "    ------------------------------------------------------------\r\n",
      "                                           Total:        16.8 MB\r\n",
      "\r\n",
      "The following NEW packages will be INSTALLED:\r\n",
      "\r\n",
      "  viennarna          bioconda/linux-64::viennarna-2.5.0-py37hfecc14a_0\r\n",
      "\r\n",
      "\r\n",
      "\r\n",
      "Downloading and Extracting Packages\r\n",
      "viennarna-2.5.0      | 16.8 MB   | ##################################### | 100% \r\n",
      "Preparing transaction: - \b\bdone\r\n",
      "Verifying transaction: | \b\bdone\r\n",
      "Executing transaction: - \b\bdone\r\n"
     ]
    }
   ],
   "source": [
    "!pip3 install -q forgi[all]\n",
    "!conda install -y -c bioconda viennarna"
   ]
  },
  {
   "cell_type": "code",
   "execution_count": 2,
   "id": "aaa14cca",
   "metadata": {
    "execution": {
     "iopub.execute_input": "2022-01-07T02:47:56.946368Z",
     "iopub.status.busy": "2022-01-07T02:47:56.945302Z",
     "iopub.status.idle": "2022-01-07T02:47:58.455108Z",
     "shell.execute_reply": "2022-01-07T02:47:58.453885Z",
     "shell.execute_reply.started": "2022-01-06T16:54:03.708922Z"
    },
    "papermill": {
     "duration": 1.632553,
     "end_time": "2022-01-07T02:47:58.455379",
     "exception": false,
     "start_time": "2022-01-07T02:47:56.822826",
     "status": "completed"
    },
    "tags": []
   },
   "outputs": [],
   "source": [
    "import pandas as pd\n",
    "import os\n",
    "import numpy as np\n",
    "import matplotlib.pyplot as plt\n",
    "import seaborn as sns\n",
    "from sklearn.model_selection import train_test_split\n",
    "from sklearn.preprocessing import StandardScaler\n",
    "from xgboost import XGBRegressor\n",
    "import forgi.graph.bulge_graph as fgb\n",
    "import forgi.visual.mplotlib as fvm\n",
    "sns.set(style='darkgrid')"
   ]
  },
  {
   "cell_type": "markdown",
   "id": "3a365bf1",
   "metadata": {
    "papermill": {
     "duration": 0.115114,
     "end_time": "2022-01-07T02:47:58.687043",
     "exception": false,
     "start_time": "2022-01-07T02:47:58.571929",
     "status": "completed"
    },
    "tags": []
   },
   "source": [
    "#### 1. Exploratory Data Analysis"
   ]
  },
  {
   "cell_type": "code",
   "execution_count": 3,
   "id": "444170d6",
   "metadata": {
    "execution": {
     "iopub.execute_input": "2022-01-07T02:47:58.922777Z",
     "iopub.status.busy": "2022-01-07T02:47:58.921964Z",
     "iopub.status.idle": "2022-01-07T02:48:00.584009Z",
     "shell.execute_reply": "2022-01-07T02:48:00.583119Z",
     "shell.execute_reply.started": "2022-01-06T16:54:03.719971Z"
    },
    "papermill": {
     "duration": 1.781213,
     "end_time": "2022-01-07T02:48:00.584206",
     "exception": false,
     "start_time": "2022-01-07T02:47:58.802993",
     "status": "completed"
    },
    "tags": []
   },
   "outputs": [],
   "source": [
    "# load data\n",
    "train = pd.read_json('../input/stanford-covid-vaccine/train.json',lines=True)\n",
    "test = pd.read_json('../input/stanford-covid-vaccine/test.json', lines=True)\n",
    "sample_sub = pd.read_csv('../input/stanford-covid-vaccine/sample_submission.csv')"
   ]
  },
  {
   "cell_type": "markdown",
   "id": "7fda2183",
   "metadata": {
    "papermill": {
     "duration": 0.11708,
     "end_time": "2022-01-07T02:48:00.817868",
     "exception": false,
     "start_time": "2022-01-07T02:48:00.700788",
     "status": "completed"
    },
    "tags": []
   },
   "source": [
    "##### 1.1 Shape of Input and Output and Important Variables Explained"
   ]
  },
  {
   "cell_type": "code",
   "execution_count": 4,
   "id": "03bd18d4",
   "metadata": {
    "execution": {
     "iopub.execute_input": "2022-01-07T02:48:01.061802Z",
     "iopub.status.busy": "2022-01-07T02:48:01.060812Z",
     "iopub.status.idle": "2022-01-07T02:48:01.064401Z",
     "shell.execute_reply": "2022-01-07T02:48:01.065125Z",
     "shell.execute_reply.started": "2022-01-06T16:54:04.879704Z"
    },
    "papermill": {
     "duration": 0.129091,
     "end_time": "2022-01-07T02:48:01.065417",
     "exception": false,
     "start_time": "2022-01-07T02:48:00.936326",
     "status": "completed"
    },
    "tags": []
   },
   "outputs": [
    {
     "name": "stdout",
     "output_type": "stream",
     "text": [
      "train data shape:  (2400, 19)\n",
      "test data shape:  (3634, 7)\n",
      "sample submission shape:  (457953, 6)\n"
     ]
    }
   ],
   "source": [
    "# examine the shape of input and output\n",
    "print(\"train data shape: \", train.shape)\n",
    "print(\"test data shape: \", test.shape)\n",
    "print(\"sample submission shape: \", sample_sub.shape)"
   ]
  },
  {
   "cell_type": "markdown",
   "id": "a7952814",
   "metadata": {
    "papermill": {
     "duration": 0.119374,
     "end_time": "2022-01-07T02:48:01.303834",
     "exception": false,
     "start_time": "2022-01-07T02:48:01.184460",
     "status": "completed"
    },
    "tags": []
   },
   "source": [
    "- 2400 training examples, each with 19 attributes\n",
    "- 3634 testing examples, each with 7 attributes (629 public samples + 3005 private samples)\n",
    "- Public test data has Sequence length of 107, while private test data has Sequence length of 130 (explanation after). Prediction is required for every position on the sequence for every sample. Hence, total rows in submission = 629 * 107 + 3005 * 130 = 457,953"
   ]
  },
  {
   "cell_type": "code",
   "execution_count": 5,
   "id": "9eac81c5",
   "metadata": {
    "execution": {
     "iopub.execute_input": "2022-01-07T02:48:01.546586Z",
     "iopub.status.busy": "2022-01-07T02:48:01.545851Z",
     "iopub.status.idle": "2022-01-07T02:48:01.618628Z",
     "shell.execute_reply": "2022-01-07T02:48:01.619182Z",
     "shell.execute_reply.started": "2022-01-06T16:54:04.889757Z"
    },
    "papermill": {
     "duration": 0.197107,
     "end_time": "2022-01-07T02:48:01.619382",
     "exception": false,
     "start_time": "2022-01-07T02:48:01.422275",
     "status": "completed"
    },
    "tags": []
   },
   "outputs": [
    {
     "data": {
      "text/html": [
       "<div>\n",
       "<style scoped>\n",
       "    .dataframe tbody tr th:only-of-type {\n",
       "        vertical-align: middle;\n",
       "    }\n",
       "\n",
       "    .dataframe tbody tr th {\n",
       "        vertical-align: top;\n",
       "    }\n",
       "\n",
       "    .dataframe thead th {\n",
       "        text-align: right;\n",
       "    }\n",
       "</style>\n",
       "<table border=\"1\" class=\"dataframe\">\n",
       "  <thead>\n",
       "    <tr style=\"text-align: right;\">\n",
       "      <th></th>\n",
       "      <th>index</th>\n",
       "      <th>id</th>\n",
       "      <th>sequence</th>\n",
       "      <th>structure</th>\n",
       "      <th>predicted_loop_type</th>\n",
       "      <th>signal_to_noise</th>\n",
       "      <th>SN_filter</th>\n",
       "      <th>seq_length</th>\n",
       "      <th>seq_scored</th>\n",
       "      <th>reactivity_error</th>\n",
       "      <th>deg_error_Mg_pH10</th>\n",
       "      <th>deg_error_pH10</th>\n",
       "      <th>deg_error_Mg_50C</th>\n",
       "      <th>deg_error_50C</th>\n",
       "      <th>reactivity</th>\n",
       "      <th>deg_Mg_pH10</th>\n",
       "      <th>deg_pH10</th>\n",
       "      <th>deg_Mg_50C</th>\n",
       "      <th>deg_50C</th>\n",
       "    </tr>\n",
       "  </thead>\n",
       "  <tbody>\n",
       "    <tr>\n",
       "      <th>0</th>\n",
       "      <td>0</td>\n",
       "      <td>id_001f94081</td>\n",
       "      <td>GGAAAAGCUCUAAUAACAGGAGACUAGGACUACGUAUUUCUAGGUA...</td>\n",
       "      <td>.....((((((.......)))).)).((.....((..((((((......</td>\n",
       "      <td>EEEEESSSSSSHHHHHHHSSSSBSSXSSIIIIISSIISSSSSSHHH...</td>\n",
       "      <td>6.894</td>\n",
       "      <td>1</td>\n",
       "      <td>107</td>\n",
       "      <td>68</td>\n",
       "      <td>[0.1359, 0.20700000000000002, 0.1633, 0.1452, ...</td>\n",
       "      <td>[0.26130000000000003, 0.38420000000000004, 0.1...</td>\n",
       "      <td>[0.2631, 0.28600000000000003, 0.0964, 0.1574, ...</td>\n",
       "      <td>[0.1501, 0.275, 0.0947, 0.18660000000000002, 0...</td>\n",
       "      <td>[0.2167, 0.34750000000000003, 0.188, 0.2124, 0...</td>\n",
       "      <td>[0.3297, 1.5693000000000001, 1.1227, 0.8686, 0...</td>\n",
       "      <td>[0.7556, 2.983, 0.2526, 1.3789, 0.637600000000...</td>\n",
       "      <td>[2.3375, 3.5060000000000002, 0.3008, 1.0108, 0...</td>\n",
       "      <td>[0.35810000000000003, 2.9683, 0.2589, 1.4552, ...</td>\n",
       "      <td>[0.6382, 3.4773, 0.9988, 1.3228, 0.78770000000...</td>\n",
       "    </tr>\n",
       "    <tr>\n",
       "      <th>1</th>\n",
       "      <td>1</td>\n",
       "      <td>id_0049f53ba</td>\n",
       "      <td>GGAAAAAGCGCGCGCGGUUAGCGCGCGCUUUUGCGCGCGCUGUACC...</td>\n",
       "      <td>.....(((((((((((((((((((((((....)))))))))).)))...</td>\n",
       "      <td>EEEEESSSSSSSSSSSSSSSSSSSSSSSHHHHSSSSSSSSSSBSSS...</td>\n",
       "      <td>0.193</td>\n",
       "      <td>0</td>\n",
       "      <td>107</td>\n",
       "      <td>68</td>\n",
       "      <td>[2.8272, 2.8272, 2.8272, 4.7343, 2.5676, 2.567...</td>\n",
       "      <td>[73705.3985, 73705.3985, 73705.3985, 73705.398...</td>\n",
       "      <td>[10.1986, 9.2418, 5.0933, 5.0933, 5.0933, 5.09...</td>\n",
       "      <td>[16.6174, 13.868, 8.1968, 8.1968, 8.1968, 8.19...</td>\n",
       "      <td>[15.4857, 7.9596, 13.3957, 5.8777, 5.8777, 5.8...</td>\n",
       "      <td>[0.0, 0.0, 0.0, 2.2965, 0.0, 0.0, 0.0, 0.0, 0....</td>\n",
       "      <td>[0.0, 0.0, 0.0, 0.0, 0.0, 0.0, 0.0, 0.0, 0.0, ...</td>\n",
       "      <td>[4.947, 4.4523, 0.0, 0.0, 0.0, 0.0, 0.0, 0.0, ...</td>\n",
       "      <td>[4.8511, 4.0426, 0.0, 0.0, 0.0, 0.0, 0.0, 0.0,...</td>\n",
       "      <td>[7.6692, 0.0, 10.9561, 0.0, 0.0, 0.0, 0.0, 0.0...</td>\n",
       "    </tr>\n",
       "    <tr>\n",
       "      <th>2</th>\n",
       "      <td>2</td>\n",
       "      <td>id_006f36f57</td>\n",
       "      <td>GGAAAGUGCUCAGAUAAGCUAAGCUCGAAUAGCAAUCGAAUAGAAU...</td>\n",
       "      <td>.....((((.((.....((((.(((.....)))..((((......)...</td>\n",
       "      <td>EEEEESSSSISSIIIIISSSSMSSSHHHHHSSSMMSSSSHHHHHHS...</td>\n",
       "      <td>8.800</td>\n",
       "      <td>1</td>\n",
       "      <td>107</td>\n",
       "      <td>68</td>\n",
       "      <td>[0.0931, 0.13290000000000002, 0.11280000000000...</td>\n",
       "      <td>[0.1365, 0.2237, 0.1812, 0.1333, 0.1148, 0.160...</td>\n",
       "      <td>[0.17020000000000002, 0.178, 0.111, 0.091, 0.0...</td>\n",
       "      <td>[0.1033, 0.1464, 0.1126, 0.09620000000000001, ...</td>\n",
       "      <td>[0.14980000000000002, 0.1761, 0.1517, 0.116700...</td>\n",
       "      <td>[0.44820000000000004, 1.4822, 1.1819, 0.743400...</td>\n",
       "      <td>[0.2504, 1.4021, 0.9804, 0.49670000000000003, ...</td>\n",
       "      <td>[2.243, 2.9361, 1.0553, 0.721, 0.6396000000000...</td>\n",
       "      <td>[0.5163, 1.6823000000000001, 1.0426, 0.7902, 0...</td>\n",
       "      <td>[0.9501000000000001, 1.7974999999999999, 1.499...</td>\n",
       "    </tr>\n",
       "    <tr>\n",
       "      <th>3</th>\n",
       "      <td>3</td>\n",
       "      <td>id_0082d463b</td>\n",
       "      <td>GGAAAAGCGCGCGCGCGCGCGCGAAAAAGCGCGCGCGCGCGCGCGC...</td>\n",
       "      <td>......((((((((((((((((......))))))))))))))))((...</td>\n",
       "      <td>EEEEEESSSSSSSSSSSSSSSSHHHHHHSSSSSSSSSSSSSSSSSS...</td>\n",
       "      <td>0.104</td>\n",
       "      <td>0</td>\n",
       "      <td>107</td>\n",
       "      <td>68</td>\n",
       "      <td>[3.5229, 6.0748, 3.0374, 3.0374, 3.0374, 3.037...</td>\n",
       "      <td>[73705.3985, 73705.3985, 73705.3985, 73705.398...</td>\n",
       "      <td>[11.8007, 12.7566, 5.7733, 5.7733, 5.7733, 5.7...</td>\n",
       "      <td>[121286.7181, 121286.7182, 121286.7181, 121286...</td>\n",
       "      <td>[15.3995, 8.1124, 7.7824, 7.7824, 7.7824, 7.78...</td>\n",
       "      <td>[0.0, 2.2399, 0.0, 0.0, 0.0, 0.0, 0.0, 0.0, 0....</td>\n",
       "      <td>[0.0, -0.5083, 0.0, 0.0, 0.0, 0.0, 0.0, 0.0, 0...</td>\n",
       "      <td>[3.4248, 6.8128, 0.0, 0.0, 0.0, 0.0, 0.0, 0.0,...</td>\n",
       "      <td>[0.0, -0.8365, 0.0, 0.0, 0.0, 0.0, 0.0, 0.0, 0...</td>\n",
       "      <td>[7.6692, -1.3223, 0.0, 0.0, 0.0, 0.0, 0.0, 0.0...</td>\n",
       "    </tr>\n",
       "    <tr>\n",
       "      <th>4</th>\n",
       "      <td>4</td>\n",
       "      <td>id_0087940f4</td>\n",
       "      <td>GGAAAAUAUAUAAUAUAUUAUAUAAAUAUAUUAUAGAAGUAUAAUA...</td>\n",
       "      <td>.....(((((((.((((((((((((.(((((((((....)))))))...</td>\n",
       "      <td>EEEEESSSSSSSBSSSSSSSSSSSSBSSSSSSSSSHHHHSSSSSSS...</td>\n",
       "      <td>0.423</td>\n",
       "      <td>0</td>\n",
       "      <td>107</td>\n",
       "      <td>68</td>\n",
       "      <td>[1.665, 2.1728, 2.0041, 1.2405, 0.620200000000...</td>\n",
       "      <td>[4.2139, 3.9637000000000002, 3.2467, 2.4716, 1...</td>\n",
       "      <td>[3.0942, 3.015, 2.1212, 2.0552, 0.881500000000...</td>\n",
       "      <td>[2.6717, 2.4818, 1.9919, 2.5484999999999998, 1...</td>\n",
       "      <td>[1.3285, 3.6173, 1.3057, 1.3021, 1.1507, 1.150...</td>\n",
       "      <td>[0.8267, 2.6577, 2.8481, 0.40090000000000003, ...</td>\n",
       "      <td>[2.1058, 3.138, 2.5437000000000003, 1.0932, 0....</td>\n",
       "      <td>[4.7366, 4.6243, 1.2068, 1.1538, 0.0, 0.0, 0.7...</td>\n",
       "      <td>[2.2052, 1.7947000000000002, 0.7457, 3.1233, 0...</td>\n",
       "      <td>[0.0, 5.1198, -0.3551, -0.3518, 0.0, 0.0, 0.0,...</td>\n",
       "    </tr>\n",
       "  </tbody>\n",
       "</table>\n",
       "</div>"
      ],
      "text/plain": [
       "   index            id                                           sequence  \\\n",
       "0      0  id_001f94081  GGAAAAGCUCUAAUAACAGGAGACUAGGACUACGUAUUUCUAGGUA...   \n",
       "1      1  id_0049f53ba  GGAAAAAGCGCGCGCGGUUAGCGCGCGCUUUUGCGCGCGCUGUACC...   \n",
       "2      2  id_006f36f57  GGAAAGUGCUCAGAUAAGCUAAGCUCGAAUAGCAAUCGAAUAGAAU...   \n",
       "3      3  id_0082d463b  GGAAAAGCGCGCGCGCGCGCGCGAAAAAGCGCGCGCGCGCGCGCGC...   \n",
       "4      4  id_0087940f4  GGAAAAUAUAUAAUAUAUUAUAUAAAUAUAUUAUAGAAGUAUAAUA...   \n",
       "\n",
       "                                           structure  \\\n",
       "0  .....((((((.......)))).)).((.....((..((((((......   \n",
       "1  .....(((((((((((((((((((((((....)))))))))).)))...   \n",
       "2  .....((((.((.....((((.(((.....)))..((((......)...   \n",
       "3  ......((((((((((((((((......))))))))))))))))((...   \n",
       "4  .....(((((((.((((((((((((.(((((((((....)))))))...   \n",
       "\n",
       "                                 predicted_loop_type  signal_to_noise  \\\n",
       "0  EEEEESSSSSSHHHHHHHSSSSBSSXSSIIIIISSIISSSSSSHHH...            6.894   \n",
       "1  EEEEESSSSSSSSSSSSSSSSSSSSSSSHHHHSSSSSSSSSSBSSS...            0.193   \n",
       "2  EEEEESSSSISSIIIIISSSSMSSSHHHHHSSSMMSSSSHHHHHHS...            8.800   \n",
       "3  EEEEEESSSSSSSSSSSSSSSSHHHHHHSSSSSSSSSSSSSSSSSS...            0.104   \n",
       "4  EEEEESSSSSSSBSSSSSSSSSSSSBSSSSSSSSSHHHHSSSSSSS...            0.423   \n",
       "\n",
       "   SN_filter  seq_length  seq_scored  \\\n",
       "0          1         107          68   \n",
       "1          0         107          68   \n",
       "2          1         107          68   \n",
       "3          0         107          68   \n",
       "4          0         107          68   \n",
       "\n",
       "                                    reactivity_error  \\\n",
       "0  [0.1359, 0.20700000000000002, 0.1633, 0.1452, ...   \n",
       "1  [2.8272, 2.8272, 2.8272, 4.7343, 2.5676, 2.567...   \n",
       "2  [0.0931, 0.13290000000000002, 0.11280000000000...   \n",
       "3  [3.5229, 6.0748, 3.0374, 3.0374, 3.0374, 3.037...   \n",
       "4  [1.665, 2.1728, 2.0041, 1.2405, 0.620200000000...   \n",
       "\n",
       "                                   deg_error_Mg_pH10  \\\n",
       "0  [0.26130000000000003, 0.38420000000000004, 0.1...   \n",
       "1  [73705.3985, 73705.3985, 73705.3985, 73705.398...   \n",
       "2  [0.1365, 0.2237, 0.1812, 0.1333, 0.1148, 0.160...   \n",
       "3  [73705.3985, 73705.3985, 73705.3985, 73705.398...   \n",
       "4  [4.2139, 3.9637000000000002, 3.2467, 2.4716, 1...   \n",
       "\n",
       "                                      deg_error_pH10  \\\n",
       "0  [0.2631, 0.28600000000000003, 0.0964, 0.1574, ...   \n",
       "1  [10.1986, 9.2418, 5.0933, 5.0933, 5.0933, 5.09...   \n",
       "2  [0.17020000000000002, 0.178, 0.111, 0.091, 0.0...   \n",
       "3  [11.8007, 12.7566, 5.7733, 5.7733, 5.7733, 5.7...   \n",
       "4  [3.0942, 3.015, 2.1212, 2.0552, 0.881500000000...   \n",
       "\n",
       "                                    deg_error_Mg_50C  \\\n",
       "0  [0.1501, 0.275, 0.0947, 0.18660000000000002, 0...   \n",
       "1  [16.6174, 13.868, 8.1968, 8.1968, 8.1968, 8.19...   \n",
       "2  [0.1033, 0.1464, 0.1126, 0.09620000000000001, ...   \n",
       "3  [121286.7181, 121286.7182, 121286.7181, 121286...   \n",
       "4  [2.6717, 2.4818, 1.9919, 2.5484999999999998, 1...   \n",
       "\n",
       "                                       deg_error_50C  \\\n",
       "0  [0.2167, 0.34750000000000003, 0.188, 0.2124, 0...   \n",
       "1  [15.4857, 7.9596, 13.3957, 5.8777, 5.8777, 5.8...   \n",
       "2  [0.14980000000000002, 0.1761, 0.1517, 0.116700...   \n",
       "3  [15.3995, 8.1124, 7.7824, 7.7824, 7.7824, 7.78...   \n",
       "4  [1.3285, 3.6173, 1.3057, 1.3021, 1.1507, 1.150...   \n",
       "\n",
       "                                          reactivity  \\\n",
       "0  [0.3297, 1.5693000000000001, 1.1227, 0.8686, 0...   \n",
       "1  [0.0, 0.0, 0.0, 2.2965, 0.0, 0.0, 0.0, 0.0, 0....   \n",
       "2  [0.44820000000000004, 1.4822, 1.1819, 0.743400...   \n",
       "3  [0.0, 2.2399, 0.0, 0.0, 0.0, 0.0, 0.0, 0.0, 0....   \n",
       "4  [0.8267, 2.6577, 2.8481, 0.40090000000000003, ...   \n",
       "\n",
       "                                         deg_Mg_pH10  \\\n",
       "0  [0.7556, 2.983, 0.2526, 1.3789, 0.637600000000...   \n",
       "1  [0.0, 0.0, 0.0, 0.0, 0.0, 0.0, 0.0, 0.0, 0.0, ...   \n",
       "2  [0.2504, 1.4021, 0.9804, 0.49670000000000003, ...   \n",
       "3  [0.0, -0.5083, 0.0, 0.0, 0.0, 0.0, 0.0, 0.0, 0...   \n",
       "4  [2.1058, 3.138, 2.5437000000000003, 1.0932, 0....   \n",
       "\n",
       "                                            deg_pH10  \\\n",
       "0  [2.3375, 3.5060000000000002, 0.3008, 1.0108, 0...   \n",
       "1  [4.947, 4.4523, 0.0, 0.0, 0.0, 0.0, 0.0, 0.0, ...   \n",
       "2  [2.243, 2.9361, 1.0553, 0.721, 0.6396000000000...   \n",
       "3  [3.4248, 6.8128, 0.0, 0.0, 0.0, 0.0, 0.0, 0.0,...   \n",
       "4  [4.7366, 4.6243, 1.2068, 1.1538, 0.0, 0.0, 0.7...   \n",
       "\n",
       "                                          deg_Mg_50C  \\\n",
       "0  [0.35810000000000003, 2.9683, 0.2589, 1.4552, ...   \n",
       "1  [4.8511, 4.0426, 0.0, 0.0, 0.0, 0.0, 0.0, 0.0,...   \n",
       "2  [0.5163, 1.6823000000000001, 1.0426, 0.7902, 0...   \n",
       "3  [0.0, -0.8365, 0.0, 0.0, 0.0, 0.0, 0.0, 0.0, 0...   \n",
       "4  [2.2052, 1.7947000000000002, 0.7457, 3.1233, 0...   \n",
       "\n",
       "                                             deg_50C  \n",
       "0  [0.6382, 3.4773, 0.9988, 1.3228, 0.78770000000...  \n",
       "1  [7.6692, 0.0, 10.9561, 0.0, 0.0, 0.0, 0.0, 0.0...  \n",
       "2  [0.9501000000000001, 1.7974999999999999, 1.499...  \n",
       "3  [7.6692, -1.3223, 0.0, 0.0, 0.0, 0.0, 0.0, 0.0...  \n",
       "4  [0.0, 5.1198, -0.3551, -0.3518, 0.0, 0.0, 0.0,...  "
      ]
     },
     "execution_count": 5,
     "metadata": {},
     "output_type": "execute_result"
    }
   ],
   "source": [
    "train.head()"
   ]
  },
  {
   "cell_type": "markdown",
   "id": "0ddd1c11",
   "metadata": {
    "papermill": {
     "duration": 0.117572,
     "end_time": "2022-01-07T02:48:01.855364",
     "exception": false,
     "start_time": "2022-01-07T02:48:01.737792",
     "status": "completed"
    },
    "tags": []
   },
   "source": [
    "**Important variables**\n",
    "- seq_length - Int, the length of sequence.\n",
    "- sequence - An array of A, G, U, and C. Describes the RNA sequence. **Main feature**\n",
    "- structure - An array of (, ), and . characters that describe whether a base is estimated to be paired or unpaired.\n",
    "- reactivity, deg_pH10, deg_Mg_pH10, deg_50C,deg_Mg_50C - An array of floating point numbers. Five indexes of the likelihood of degradation under different conditions. **Ground-truth Values**\n",
    "- SN_filter - Int, 1 if it satisfies the below given conditions or else 0. The filter will also be applied to the public test set and private test set.\n",
    "    - Minimum value across all 5 conditions must be greater than -0.5.\n",
    "    - Mean signal/noise across all 5 conditions must be greater than 1.0."
   ]
  },
  {
   "cell_type": "code",
   "execution_count": 6,
   "id": "c8d08437",
   "metadata": {
    "execution": {
     "iopub.execute_input": "2022-01-07T02:48:02.103794Z",
     "iopub.status.busy": "2022-01-07T02:48:02.102995Z",
     "iopub.status.idle": "2022-01-07T02:48:02.106348Z",
     "shell.execute_reply": "2022-01-07T02:48:02.106795Z",
     "shell.execute_reply.started": "2022-01-06T16:54:04.970501Z"
    },
    "papermill": {
     "duration": 0.133776,
     "end_time": "2022-01-07T02:48:02.106971",
     "exception": false,
     "start_time": "2022-01-07T02:48:01.973195",
     "status": "completed"
    },
    "tags": []
   },
   "outputs": [
    {
     "data": {
      "text/html": [
       "<div>\n",
       "<style scoped>\n",
       "    .dataframe tbody tr th:only-of-type {\n",
       "        vertical-align: middle;\n",
       "    }\n",
       "\n",
       "    .dataframe tbody tr th {\n",
       "        vertical-align: top;\n",
       "    }\n",
       "\n",
       "    .dataframe thead th {\n",
       "        text-align: right;\n",
       "    }\n",
       "</style>\n",
       "<table border=\"1\" class=\"dataframe\">\n",
       "  <thead>\n",
       "    <tr style=\"text-align: right;\">\n",
       "      <th></th>\n",
       "      <th>index</th>\n",
       "      <th>id</th>\n",
       "      <th>sequence</th>\n",
       "      <th>structure</th>\n",
       "      <th>predicted_loop_type</th>\n",
       "      <th>seq_length</th>\n",
       "      <th>seq_scored</th>\n",
       "    </tr>\n",
       "  </thead>\n",
       "  <tbody>\n",
       "    <tr>\n",
       "      <th>0</th>\n",
       "      <td>0</td>\n",
       "      <td>id_00073f8be</td>\n",
       "      <td>GGAAAAGUACGACUUGAGUACGGAAAACGUACCAACUCGAUUAAAA...</td>\n",
       "      <td>......((((((((((.(((((.....))))))))((((((((......</td>\n",
       "      <td>EEEEEESSSSSSSSSSBSSSSSHHHHHSSSSSSSSSSSSSSSSHHH...</td>\n",
       "      <td>107</td>\n",
       "      <td>68</td>\n",
       "    </tr>\n",
       "    <tr>\n",
       "      <th>1</th>\n",
       "      <td>1</td>\n",
       "      <td>id_000ae4237</td>\n",
       "      <td>GGAAACGGGUUCCGCGGAUUGCUGCUAAUAAGAGUAAUCUCUAAAU...</td>\n",
       "      <td>.....((((..((((((...(((((.....((((....)))).......</td>\n",
       "      <td>EEEEESSSSIISSSSSSIIISSSSSIIIIISSSSHHHHSSSSIIII...</td>\n",
       "      <td>130</td>\n",
       "      <td>91</td>\n",
       "    </tr>\n",
       "    <tr>\n",
       "      <th>2</th>\n",
       "      <td>2</td>\n",
       "      <td>id_00131c573</td>\n",
       "      <td>GGAAAACAAAACGGCCUGGAAGACGAAGGAAUUCGGCGCGAAGGCC...</td>\n",
       "      <td>...........((.(((.(.(..((..((..((((...))))..))...</td>\n",
       "      <td>EEEEEEEEEEESSISSSISISIISSIISSIISSSSHHHSSSSIISS...</td>\n",
       "      <td>107</td>\n",
       "      <td>68</td>\n",
       "    </tr>\n",
       "    <tr>\n",
       "      <th>3</th>\n",
       "      <td>3</td>\n",
       "      <td>id_00181fd34</td>\n",
       "      <td>GGAAAGGAUCUCUAUCGAAGGAUAGAGAUCGCUCGCGACGGCACGA...</td>\n",
       "      <td>......((((((((((....))))))))))((((((..((.(((.....</td>\n",
       "      <td>EEEEEESSSSSSSSSSHHHHSSSSSSSSSSSSSSSSIISSISSSHH...</td>\n",
       "      <td>107</td>\n",
       "      <td>68</td>\n",
       "    </tr>\n",
       "    <tr>\n",
       "      <th>4</th>\n",
       "      <td>4</td>\n",
       "      <td>id_0020473f7</td>\n",
       "      <td>GGAAACCCGCCCGCGCCCGCCCGCGCUGCUGCCGUGCCUCCUCUCC...</td>\n",
       "      <td>.....(((((((((((((((((((((((((((((((((((((((((...</td>\n",
       "      <td>EEEEESSSSSSSSSSSSSSSSSSSSSSSSSSSSSSSSSSSSSSSSS...</td>\n",
       "      <td>130</td>\n",
       "      <td>91</td>\n",
       "    </tr>\n",
       "  </tbody>\n",
       "</table>\n",
       "</div>"
      ],
      "text/plain": [
       "   index            id                                           sequence  \\\n",
       "0      0  id_00073f8be  GGAAAAGUACGACUUGAGUACGGAAAACGUACCAACUCGAUUAAAA...   \n",
       "1      1  id_000ae4237  GGAAACGGGUUCCGCGGAUUGCUGCUAAUAAGAGUAAUCUCUAAAU...   \n",
       "2      2  id_00131c573  GGAAAACAAAACGGCCUGGAAGACGAAGGAAUUCGGCGCGAAGGCC...   \n",
       "3      3  id_00181fd34  GGAAAGGAUCUCUAUCGAAGGAUAGAGAUCGCUCGCGACGGCACGA...   \n",
       "4      4  id_0020473f7  GGAAACCCGCCCGCGCCCGCCCGCGCUGCUGCCGUGCCUCCUCUCC...   \n",
       "\n",
       "                                           structure  \\\n",
       "0  ......((((((((((.(((((.....))))))))((((((((......   \n",
       "1  .....((((..((((((...(((((.....((((....)))).......   \n",
       "2  ...........((.(((.(.(..((..((..((((...))))..))...   \n",
       "3  ......((((((((((....))))))))))((((((..((.(((.....   \n",
       "4  .....(((((((((((((((((((((((((((((((((((((((((...   \n",
       "\n",
       "                                 predicted_loop_type  seq_length  seq_scored  \n",
       "0  EEEEEESSSSSSSSSSBSSSSSHHHHHSSSSSSSSSSSSSSSSHHH...         107          68  \n",
       "1  EEEEESSSSIISSSSSSIIISSSSSIIIIISSSSHHHHSSSSIIII...         130          91  \n",
       "2  EEEEEEEEEEESSISSSISISIISSIISSIISSSSHHHSSSSIISS...         107          68  \n",
       "3  EEEEEESSSSSSSSSSHHHHSSSSSSSSSSSSSSSSIISSISSSHH...         107          68  \n",
       "4  EEEEESSSSSSSSSSSSSSSSSSSSSSSSSSSSSSSSSSSSSSSSS...         130          91  "
      ]
     },
     "execution_count": 6,
     "metadata": {},
     "output_type": "execute_result"
    }
   ],
   "source": [
    "test.head()"
   ]
  },
  {
   "cell_type": "markdown",
   "id": "7dea3c04",
   "metadata": {
    "papermill": {
     "duration": 0.118356,
     "end_time": "2022-01-07T02:48:02.343503",
     "exception": false,
     "start_time": "2022-01-07T02:48:02.225147",
     "status": "completed"
    },
    "tags": []
   },
   "source": [
    "Five targeted variables as well as several variables (SN_filter, signal_to_noise, errors) are removed. These removed variables can't be used as features in the later model."
   ]
  },
  {
   "cell_type": "code",
   "execution_count": 7,
   "id": "2db62013",
   "metadata": {
    "execution": {
     "iopub.execute_input": "2022-01-07T02:48:02.593203Z",
     "iopub.status.busy": "2022-01-07T02:48:02.592315Z",
     "iopub.status.idle": "2022-01-07T02:48:02.596777Z",
     "shell.execute_reply": "2022-01-07T02:48:02.596110Z",
     "shell.execute_reply.started": "2022-01-06T16:54:04.986629Z"
    },
    "papermill": {
     "duration": 0.136267,
     "end_time": "2022-01-07T02:48:02.596917",
     "exception": false,
     "start_time": "2022-01-07T02:48:02.460650",
     "status": "completed"
    },
    "tags": []
   },
   "outputs": [
    {
     "data": {
      "text/html": [
       "<div>\n",
       "<style scoped>\n",
       "    .dataframe tbody tr th:only-of-type {\n",
       "        vertical-align: middle;\n",
       "    }\n",
       "\n",
       "    .dataframe tbody tr th {\n",
       "        vertical-align: top;\n",
       "    }\n",
       "\n",
       "    .dataframe thead th {\n",
       "        text-align: right;\n",
       "    }\n",
       "</style>\n",
       "<table border=\"1\" class=\"dataframe\">\n",
       "  <thead>\n",
       "    <tr style=\"text-align: right;\">\n",
       "      <th></th>\n",
       "      <th>id_seqpos</th>\n",
       "      <th>reactivity</th>\n",
       "      <th>deg_Mg_pH10</th>\n",
       "      <th>deg_pH10</th>\n",
       "      <th>deg_Mg_50C</th>\n",
       "      <th>deg_50C</th>\n",
       "    </tr>\n",
       "  </thead>\n",
       "  <tbody>\n",
       "    <tr>\n",
       "      <th>0</th>\n",
       "      <td>id_00073f8be_0</td>\n",
       "      <td>0.0</td>\n",
       "      <td>0.0</td>\n",
       "      <td>0.0</td>\n",
       "      <td>0.0</td>\n",
       "      <td>0.0</td>\n",
       "    </tr>\n",
       "    <tr>\n",
       "      <th>1</th>\n",
       "      <td>id_00073f8be_1</td>\n",
       "      <td>0.0</td>\n",
       "      <td>0.0</td>\n",
       "      <td>0.0</td>\n",
       "      <td>0.0</td>\n",
       "      <td>0.0</td>\n",
       "    </tr>\n",
       "    <tr>\n",
       "      <th>2</th>\n",
       "      <td>id_00073f8be_2</td>\n",
       "      <td>0.0</td>\n",
       "      <td>0.0</td>\n",
       "      <td>0.0</td>\n",
       "      <td>0.0</td>\n",
       "      <td>0.0</td>\n",
       "    </tr>\n",
       "    <tr>\n",
       "      <th>3</th>\n",
       "      <td>id_00073f8be_3</td>\n",
       "      <td>0.0</td>\n",
       "      <td>0.0</td>\n",
       "      <td>0.0</td>\n",
       "      <td>0.0</td>\n",
       "      <td>0.0</td>\n",
       "    </tr>\n",
       "    <tr>\n",
       "      <th>4</th>\n",
       "      <td>id_00073f8be_4</td>\n",
       "      <td>0.0</td>\n",
       "      <td>0.0</td>\n",
       "      <td>0.0</td>\n",
       "      <td>0.0</td>\n",
       "      <td>0.0</td>\n",
       "    </tr>\n",
       "  </tbody>\n",
       "</table>\n",
       "</div>"
      ],
      "text/plain": [
       "        id_seqpos  reactivity  deg_Mg_pH10  deg_pH10  deg_Mg_50C  deg_50C\n",
       "0  id_00073f8be_0         0.0          0.0       0.0         0.0      0.0\n",
       "1  id_00073f8be_1         0.0          0.0       0.0         0.0      0.0\n",
       "2  id_00073f8be_2         0.0          0.0       0.0         0.0      0.0\n",
       "3  id_00073f8be_3         0.0          0.0       0.0         0.0      0.0\n",
       "4  id_00073f8be_4         0.0          0.0       0.0         0.0      0.0"
      ]
     },
     "execution_count": 7,
     "metadata": {},
     "output_type": "execute_result"
    }
   ],
   "source": [
    "sample_sub.head()"
   ]
  },
  {
   "cell_type": "markdown",
   "id": "d78f612c",
   "metadata": {
    "papermill": {
     "duration": 0.11716,
     "end_time": "2022-01-07T02:48:02.830943",
     "exception": false,
     "start_time": "2022-01-07T02:48:02.713783",
     "status": "completed"
    },
    "tags": []
   },
   "source": [
    "For every position of every example (denoted by id_seqpos), all five indexes are predicted."
   ]
  },
  {
   "cell_type": "code",
   "execution_count": 8,
   "id": "af062117",
   "metadata": {
    "execution": {
     "iopub.execute_input": "2022-01-07T02:48:03.080635Z",
     "iopub.status.busy": "2022-01-07T02:48:03.079892Z",
     "iopub.status.idle": "2022-01-07T02:48:03.082849Z",
     "shell.execute_reply": "2022-01-07T02:48:03.083365Z",
     "shell.execute_reply.started": "2022-01-06T16:54:05.012308Z"
    },
    "papermill": {
     "duration": 0.134471,
     "end_time": "2022-01-07T02:48:03.083554",
     "exception": false,
     "start_time": "2022-01-07T02:48:02.949083",
     "status": "completed"
    },
    "tags": []
   },
   "outputs": [
    {
     "data": {
      "text/plain": [
       "107    2400\n",
       "Name: seq_length, dtype: int64"
      ]
     },
     "execution_count": 8,
     "metadata": {},
     "output_type": "execute_result"
    }
   ],
   "source": [
    "train['seq_length'].value_counts()"
   ]
  },
  {
   "cell_type": "markdown",
   "id": "3a65cc84",
   "metadata": {
    "papermill": {
     "duration": 0.13887,
     "end_time": "2022-01-07T02:48:03.367123",
     "exception": false,
     "start_time": "2022-01-07T02:48:03.228253",
     "status": "completed"
    },
    "tags": []
   },
   "source": [
    "All the examples in the training data are of 107 sequence length."
   ]
  },
  {
   "cell_type": "code",
   "execution_count": 9,
   "id": "6ed347a8",
   "metadata": {
    "execution": {
     "iopub.execute_input": "2022-01-07T02:48:03.629776Z",
     "iopub.status.busy": "2022-01-07T02:48:03.628665Z",
     "iopub.status.idle": "2022-01-07T02:48:03.636622Z",
     "shell.execute_reply": "2022-01-07T02:48:03.637215Z",
     "shell.execute_reply.started": "2022-01-06T16:54:05.024087Z"
    },
    "papermill": {
     "duration": 0.131721,
     "end_time": "2022-01-07T02:48:03.637404",
     "exception": false,
     "start_time": "2022-01-07T02:48:03.505683",
     "status": "completed"
    },
    "tags": []
   },
   "outputs": [
    {
     "data": {
      "text/plain": [
       "130    3005\n",
       "107     629\n",
       "Name: seq_length, dtype: int64"
      ]
     },
     "execution_count": 9,
     "metadata": {},
     "output_type": "execute_result"
    }
   ],
   "source": [
    "test['seq_length'].value_counts()"
   ]
  },
  {
   "cell_type": "markdown",
   "id": "811a9486",
   "metadata": {
    "papermill": {
     "duration": 0.118902,
     "end_time": "2022-01-07T02:48:03.875359",
     "exception": false,
     "start_time": "2022-01-07T02:48:03.756457",
     "status": "completed"
    },
    "tags": []
   },
   "source": [
    "- 629 examples in the test set are of 107 sequence length, the same as the training set, and they form the public test set.\n",
    "- 3005 examples in the test set are of 130 sequence length, which together form the private test set.\n",
    "- The variation in the sequence length between the public test set and the private test set is aimed to examine the generalization ability of the model."
   ]
  },
  {
   "cell_type": "markdown",
   "id": "2ab35cc4",
   "metadata": {
    "papermill": {
     "duration": 0.117416,
     "end_time": "2022-01-07T02:48:04.113522",
     "exception": false,
     "start_time": "2022-01-07T02:48:03.996106",
     "status": "completed"
    },
    "tags": []
   },
   "source": [
    "##### 1.2 Distribution of Signal/Noise and SN_filter"
   ]
  },
  {
   "cell_type": "code",
   "execution_count": 10,
   "id": "ddd65f33",
   "metadata": {
    "execution": {
     "iopub.execute_input": "2022-01-07T02:48:04.362201Z",
     "iopub.status.busy": "2022-01-07T02:48:04.361453Z",
     "iopub.status.idle": "2022-01-07T02:48:04.824109Z",
     "shell.execute_reply": "2022-01-07T02:48:04.822984Z",
     "shell.execute_reply.started": "2022-01-06T16:54:05.039407Z"
    },
    "papermill": {
     "duration": 0.592878,
     "end_time": "2022-01-07T02:48:04.824299",
     "exception": false,
     "start_time": "2022-01-07T02:48:04.231421",
     "status": "completed"
    },
    "tags": []
   },
   "outputs": [
    {
     "data": {
      "image/png": "[encoded data removed]",
      "text/plain": [
       "<Figure size 1440x360 with 2 Axes>"
      ]
     },
     "metadata": {},
     "output_type": "display_data"
    }
   ],
   "source": [
    "# plot the boxplot of Signal/Noise and the barplot of SN_filter\n",
    "fig, ax = plt.subplots(1, 2, figsize=(20,5))\n",
    "sns.boxplot(data=train, x='signal_to_noise', ax=ax[0])\n",
    "ax[0].set_title('Signal/Noise')\n",
    "sns.countplot(data=train, y='SN_filter', ax=ax[1])\n",
    "ax[1].set_title('SN_filter')\n",
    "plt.show()"
   ]
  },
  {
   "cell_type": "markdown",
   "id": "731712b0",
   "metadata": {
    "papermill": {
     "duration": 0.120994,
     "end_time": "2022-01-07T02:48:05.066504",
     "exception": false,
     "start_time": "2022-01-07T02:48:04.945510",
     "status": "completed"
    },
    "tags": []
   },
   "source": [
    "- There are samples with very high Signal/Noise values, which could be outliers.\n",
    "- About 2/3 of the training samples have SN_filter of 1, which denotes that the example is relatively \"good\". **Removing samples with SN_filter of 0 in the training process might be a good choice.**"
   ]
  },
  {
   "cell_type": "markdown",
   "id": "021128e6",
   "metadata": {
    "papermill": {
     "duration": 0.120484,
     "end_time": "2022-01-07T02:48:05.307529",
     "exception": false,
     "start_time": "2022-01-07T02:48:05.187045",
     "status": "completed"
    },
    "tags": []
   },
   "source": [
    "##### 1.3 Distribution of Ground-Truth vs Position"
   ]
  },
  {
   "cell_type": "code",
   "execution_count": 11,
   "id": "42645f0a",
   "metadata": {
    "execution": {
     "iopub.execute_input": "2022-01-07T02:48:05.553547Z",
     "iopub.status.busy": "2022-01-07T02:48:05.552486Z",
     "iopub.status.idle": "2022-01-07T02:48:05.711456Z",
     "shell.execute_reply": "2022-01-07T02:48:05.711994Z",
     "shell.execute_reply.started": "2022-01-06T16:54:05.534067Z"
    },
    "papermill": {
     "duration": 0.283912,
     "end_time": "2022-01-07T02:48:05.712190",
     "exception": false,
     "start_time": "2022-01-07T02:48:05.428278",
     "status": "completed"
    },
    "tags": []
   },
   "outputs": [],
   "source": [
    "# Reference: https://www.kaggle.com/meemr5/openvaccine-interesting-visualizations\n",
    "# obtain the average values of five indexes over positions\n",
    "avg_reactivity = np.array(list(map(np.array,train.reactivity))).mean(axis=0)\n",
    "avg_deg_50C = np.array(list(map(np.array,train.deg_50C))).mean(axis=0)\n",
    "avg_deg_pH10 = np.array(list(map(np.array,train.deg_pH10))).mean(axis=0)\n",
    "avg_deg_Mg_50C = np.array(list(map(np.array,train.deg_Mg_50C))).mean(axis=0)\n",
    "avg_deg_Mg_pH10 = np.array(list(map(np.array,train.deg_Mg_pH10))).mean(axis=0)"
   ]
  },
  {
   "cell_type": "code",
   "execution_count": 12,
   "id": "48e78062",
   "metadata": {
    "execution": {
     "iopub.execute_input": "2022-01-07T02:48:05.957083Z",
     "iopub.status.busy": "2022-01-07T02:48:05.956048Z",
     "iopub.status.idle": "2022-01-07T02:48:07.711403Z",
     "shell.execute_reply": "2022-01-07T02:48:07.711957Z",
     "shell.execute_reply.started": "2022-01-06T16:54:05.684224Z"
    },
    "papermill": {
     "duration": 1.879326,
     "end_time": "2022-01-07T02:48:07.712134",
     "exception": false,
     "start_time": "2022-01-07T02:48:05.832808",
     "status": "completed"
    },
    "tags": []
   },
   "outputs": [
    {
     "data": {
      "image/png": "[encoded data removed]",
      "text/plain": [
       "<Figure size 1440x720 with 1 Axes>"
      ]
     },
     "metadata": {},
     "output_type": "display_data"
    }
   ],
   "source": [
    "# plot of the average values of five indexes over positions vs positions\n",
    "plt.figure(figsize=(20,10))\n",
    "\n",
    "sns.lineplot(x=range(68),y=avg_reactivity,label='avg_reactivity')\n",
    "sns.lineplot(x=range(68),y=avg_deg_50C,label='avg_deg_50C')\n",
    "sns.lineplot(x=range(68),y=avg_deg_pH10,label='avg_deg_ph10')\n",
    "sns.lineplot(x=range(68),y=avg_deg_Mg_50C,label='avg_deg_Mg_50C')\n",
    "sns.lineplot(x=range(68),y=avg_deg_Mg_pH10,label='avg_deg_Mg_pH10')\n",
    "\n",
    "plt.xlabel('Positions on the RNA sequence')\n",
    "plt.xticks(range(0,68))\n",
    "plt.ylabel('Values')\n",
    "plt.title('Average Target Values vs Positions')\n",
    "\n",
    "plt.show()"
   ]
  },
  {
   "cell_type": "markdown",
   "id": "d8664575",
   "metadata": {
    "papermill": {
     "duration": 0.128513,
     "end_time": "2022-01-07T02:48:07.963395",
     "exception": false,
     "start_time": "2022-01-07T02:48:07.834882",
     "status": "completed"
    },
    "tags": []
   },
   "source": [
    "- There is a certain pattern regarding the distribution of Reactivity and degradation: they tend to be high at the beginning of the sequence and stable and low in the middle.\n",
    "- There is some correlation between these five indexes.\n"
   ]
  },
  {
   "cell_type": "code",
   "execution_count": 13,
   "id": "a6fd7df5",
   "metadata": {
    "execution": {
     "iopub.execute_input": "2022-01-07T02:48:08.218680Z",
     "iopub.status.busy": "2022-01-07T02:48:08.217429Z",
     "iopub.status.idle": "2022-01-07T02:48:08.224670Z",
     "shell.execute_reply": "2022-01-07T02:48:08.225207Z",
     "shell.execute_reply.started": "2022-01-06T16:54:07.768214Z"
    },
    "papermill": {
     "duration": 0.13703,
     "end_time": "2022-01-07T02:48:08.225393",
     "exception": false,
     "start_time": "2022-01-07T02:48:08.088363",
     "status": "completed"
    },
    "tags": []
   },
   "outputs": [
    {
     "data": {
      "text/plain": [
       "array([[1.        , 0.93444797, 0.79443553, 0.92013372, 0.85894052],\n",
       "       [0.93444797, 1.        , 0.88413015, 0.98090941, 0.94806805],\n",
       "       [0.79443553, 0.88413015, 1.        , 0.85404104, 0.89446958],\n",
       "       [0.92013372, 0.98090941, 0.85404104, 1.        , 0.96517128],\n",
       "       [0.85894052, 0.94806805, 0.89446958, 0.96517128, 1.        ]])"
      ]
     },
     "execution_count": 13,
     "metadata": {},
     "output_type": "execute_result"
    }
   ],
   "source": [
    "# correlation between the five indexes\n",
    "np.corrcoef(np.vstack((avg_reactivity, avg_deg_50C, avg_deg_pH10, avg_deg_Mg_50C, avg_deg_Mg_pH10)))"
   ]
  },
  {
   "cell_type": "markdown",
   "id": "9c0d6b3a",
   "metadata": {
    "papermill": {
     "duration": 0.127152,
     "end_time": "2022-01-07T02:48:08.476536",
     "exception": false,
     "start_time": "2022-01-07T02:48:08.349384",
     "status": "completed"
    },
    "tags": []
   },
   "source": [
    "Almost all correlation coefficients exceed 0.8, indicating indeed high correlation between indexes."
   ]
  },
  {
   "cell_type": "markdown",
   "id": "e8b6995d",
   "metadata": {
    "papermill": {
     "duration": 0.123873,
     "end_time": "2022-01-07T02:48:08.729245",
     "exception": false,
     "start_time": "2022-01-07T02:48:08.605372",
     "status": "completed"
    },
    "tags": []
   },
   "source": [
    "##### 1.4 RNA Visualization"
   ]
  },
  {
   "cell_type": "markdown",
   "id": "3219d902",
   "metadata": {
    "papermill": {
     "duration": 0.125228,
     "end_time": "2022-01-07T02:48:08.982371",
     "exception": false,
     "start_time": "2022-01-07T02:48:08.857143",
     "status": "completed"
    },
    "tags": []
   },
   "source": [
    "To better understand the sequence and structure of RNA, we use a tool named viennarna to construct RNA models and visualize them from RNA structures and sequences."
   ]
  },
  {
   "cell_type": "code",
   "execution_count": 14,
   "id": "ddb17402",
   "metadata": {
    "execution": {
     "iopub.execute_input": "2022-01-07T02:48:09.234076Z",
     "iopub.status.busy": "2022-01-07T02:48:09.233345Z",
     "iopub.status.idle": "2022-01-07T02:48:09.240648Z",
     "shell.execute_reply": "2022-01-07T02:48:09.240055Z",
     "shell.execute_reply.started": "2022-01-06T16:54:07.781127Z"
    },
    "papermill": {
     "duration": 0.133436,
     "end_time": "2022-01-07T02:48:09.240805",
     "exception": false,
     "start_time": "2022-01-07T02:48:09.107369",
     "status": "completed"
    },
    "tags": []
   },
   "outputs": [],
   "source": [
    "# plotting function\n",
    "def plot_sample(sample):\n",
    "    \n",
    "    \"\"\"\n",
    "    Reference: https://www.kaggle.com/erelin6613/openvaccine-rna-visualization\n",
    "    Visualize RNA using viennarna\n",
    "    Arguments:\n",
    "    sample: pandas.series, a sample of RNA, must contain 'id', structure' and 'sequence'\n",
    "    \n",
    "    \"\"\"\n",
    "    struct = sample['structure']\n",
    "    seq = sample['sequence']\n",
    "    bg = fgb.BulgeGraph.from_fasta_text(f'>rna1\\n{struct}\\n{seq}')[0]\n",
    "    \n",
    "    plt.figure(figsize=(20,8))\n",
    "    fvm.plot_rna(bg)\n",
    "    plt.title(f\"RNA Structure (id: {sample.id})\")\n",
    "    plt.show()"
   ]
  },
  {
   "cell_type": "code",
   "execution_count": 15,
   "id": "b9d1ad68",
   "metadata": {
    "execution": {
     "iopub.execute_input": "2022-01-07T02:48:09.497503Z",
     "iopub.status.busy": "2022-01-07T02:48:09.496723Z",
     "iopub.status.idle": "2022-01-07T02:48:11.178210Z",
     "shell.execute_reply": "2022-01-07T02:48:11.179240Z",
     "shell.execute_reply.started": "2022-01-06T16:54:07.793053Z"
    },
    "papermill": {
     "duration": 1.815152,
     "end_time": "2022-01-07T02:48:11.179432",
     "exception": false,
     "start_time": "2022-01-07T02:48:09.364280",
     "status": "completed"
    },
    "tags": []
   },
   "outputs": [
    {
     "data": {
      "image/png": "[encoded data removed]",
      "text/plain": [
       "<Figure size 1440x576 with 1 Axes>"
      ]
     },
     "metadata": {},
     "output_type": "display_data"
    }
   ],
   "source": [
    "# example\n",
    "sample = train.iloc[np.random.choice(2400)]\n",
    "plot_sample(sample)"
   ]
  },
  {
   "cell_type": "markdown",
   "id": "05cebe34",
   "metadata": {
    "papermill": {
     "duration": 0.125567,
     "end_time": "2022-01-07T02:48:11.438134",
     "exception": false,
     "start_time": "2022-01-07T02:48:11.312567",
     "status": "completed"
    },
    "tags": []
   },
   "source": [
    "#### 2. Predition with XGBoost Regression"
   ]
  },
  {
   "cell_type": "markdown",
   "id": "aca9378a",
   "metadata": {
    "papermill": {
     "duration": 0.124154,
     "end_time": "2022-01-07T02:48:11.688787",
     "exception": false,
     "start_time": "2022-01-07T02:48:11.564633",
     "status": "completed"
    },
    "tags": []
   },
   "source": [
    "##### 2.1 Preprocess"
   ]
  },
  {
   "cell_type": "markdown",
   "id": "84f274a3",
   "metadata": {
    "papermill": {
     "duration": 0.125596,
     "end_time": "2022-01-07T02:48:11.940566",
     "exception": false,
     "start_time": "2022-01-07T02:48:11.814970",
     "status": "completed"
    },
    "tags": []
   },
   "source": [
    "As we have stated in 1.2, we remove training samples with SN_filter of 0."
   ]
  },
  {
   "cell_type": "code",
   "execution_count": 16,
   "id": "878dd389",
   "metadata": {
    "execution": {
     "iopub.execute_input": "2022-01-07T02:48:12.204051Z",
     "iopub.status.busy": "2022-01-07T02:48:12.203378Z",
     "iopub.status.idle": "2022-01-07T02:48:12.205007Z",
     "shell.execute_reply": "2022-01-07T02:48:12.205606Z",
     "shell.execute_reply.started": "2022-01-06T16:54:09.940698Z"
    },
    "papermill": {
     "duration": 0.135599,
     "end_time": "2022-01-07T02:48:12.205782",
     "exception": false,
     "start_time": "2022-01-07T02:48:12.070183",
     "status": "completed"
    },
    "tags": []
   },
   "outputs": [],
   "source": [
    "# filter training data with SN_filter\n",
    "mask = train['SN_filter'] == 1\n",
    "train = train[mask]"
   ]
  },
  {
   "cell_type": "markdown",
   "id": "95abb44f",
   "metadata": {
    "execution": {
     "iopub.execute_input": "2022-01-07T02:39:06.437565Z",
     "iopub.status.busy": "2022-01-07T02:39:06.437137Z",
     "iopub.status.idle": "2022-01-07T02:39:06.468970Z",
     "shell.execute_reply": "2022-01-07T02:39:06.468071Z",
     "shell.execute_reply.started": "2022-01-07T02:39:06.437468Z"
    },
    "papermill": {
     "duration": 0.125437,
     "end_time": "2022-01-07T02:48:12.456223",
     "exception": false,
     "start_time": "2022-01-07T02:48:12.330786",
     "status": "completed"
    },
    "tags": []
   },
   "source": [
    "And we drop useless columns for now."
   ]
  },
  {
   "cell_type": "code",
   "execution_count": 17,
   "id": "1f543d9b",
   "metadata": {
    "execution": {
     "iopub.execute_input": "2022-01-07T02:48:12.711458Z",
     "iopub.status.busy": "2022-01-07T02:48:12.710422Z",
     "iopub.status.idle": "2022-01-07T02:48:12.718918Z",
     "shell.execute_reply": "2022-01-07T02:48:12.719467Z",
     "shell.execute_reply.started": "2022-01-06T16:54:09.949266Z"
    },
    "papermill": {
     "duration": 0.137295,
     "end_time": "2022-01-07T02:48:12.719644",
     "exception": false,
     "start_time": "2022-01-07T02:48:12.582349",
     "status": "completed"
    },
    "tags": []
   },
   "outputs": [
    {
     "data": {
      "text/plain": [
       "(1589, 12)"
      ]
     },
     "execution_count": 17,
     "metadata": {},
     "output_type": "execute_result"
    }
   ],
   "source": [
    "# remove explanatory variables not available in the test set\n",
    "train = train.drop(['signal_to_noise', 'SN_filter', 'reactivity_error', 'deg_error_Mg_pH10', 'deg_error_pH10', 'deg_error_Mg_50C', 'deg_error_50C'], axis = 1)\n",
    "train.shape"
   ]
  },
  {
   "cell_type": "markdown",
   "id": "719ed01c",
   "metadata": {
    "papermill": {
     "duration": 0.127191,
     "end_time": "2022-01-07T02:48:12.973810",
     "exception": false,
     "start_time": "2022-01-07T02:48:12.846619",
     "status": "completed"
    },
    "tags": []
   },
   "source": [
    "Since prediction is required for all positions of every sample, we break every sample down into pieces."
   ]
  },
  {
   "cell_type": "code",
   "execution_count": 18,
   "id": "17787eb9",
   "metadata": {
    "execution": {
     "iopub.execute_input": "2022-01-07T02:48:13.238057Z",
     "iopub.status.busy": "2022-01-07T02:48:13.236968Z",
     "iopub.status.idle": "2022-01-07T02:48:21.208406Z",
     "shell.execute_reply": "2022-01-07T02:48:21.208930Z",
     "shell.execute_reply.started": "2022-01-06T16:54:10.017596Z"
    },
    "papermill": {
     "duration": 8.102834,
     "end_time": "2022-01-07T02:48:21.209107",
     "exception": false,
     "start_time": "2022-01-07T02:48:13.106273",
     "status": "completed"
    },
    "tags": []
   },
   "outputs": [
    {
     "data": {
      "text/html": [
       "<div>\n",
       "<style scoped>\n",
       "    .dataframe tbody tr th:only-of-type {\n",
       "        vertical-align: middle;\n",
       "    }\n",
       "\n",
       "    .dataframe tbody tr th {\n",
       "        vertical-align: top;\n",
       "    }\n",
       "\n",
       "    .dataframe thead th {\n",
       "        text-align: right;\n",
       "    }\n",
       "</style>\n",
       "<table border=\"1\" class=\"dataframe\">\n",
       "  <thead>\n",
       "    <tr style=\"text-align: right;\">\n",
       "      <th></th>\n",
       "      <th>id</th>\n",
       "      <th>id_seqpos</th>\n",
       "      <th>sequence</th>\n",
       "      <th>structure</th>\n",
       "      <th>predicted_loop_type</th>\n",
       "      <th>reactivity</th>\n",
       "      <th>deg_Mg_pH10</th>\n",
       "      <th>deg_pH10</th>\n",
       "      <th>deg_Mg_50C</th>\n",
       "      <th>deg_50C</th>\n",
       "    </tr>\n",
       "  </thead>\n",
       "  <tbody>\n",
       "    <tr>\n",
       "      <th>0</th>\n",
       "      <td>id_001f94081</td>\n",
       "      <td>id_001f94081_0</td>\n",
       "      <td>G</td>\n",
       "      <td>.</td>\n",
       "      <td>E</td>\n",
       "      <td>0.3297</td>\n",
       "      <td>0.7556</td>\n",
       "      <td>2.3375</td>\n",
       "      <td>0.3581</td>\n",
       "      <td>0.6382</td>\n",
       "    </tr>\n",
       "    <tr>\n",
       "      <th>1</th>\n",
       "      <td>id_001f94081</td>\n",
       "      <td>id_001f94081_1</td>\n",
       "      <td>G</td>\n",
       "      <td>.</td>\n",
       "      <td>E</td>\n",
       "      <td>1.5693</td>\n",
       "      <td>2.9830</td>\n",
       "      <td>3.5060</td>\n",
       "      <td>2.9683</td>\n",
       "      <td>3.4773</td>\n",
       "    </tr>\n",
       "    <tr>\n",
       "      <th>2</th>\n",
       "      <td>id_001f94081</td>\n",
       "      <td>id_001f94081_2</td>\n",
       "      <td>A</td>\n",
       "      <td>.</td>\n",
       "      <td>E</td>\n",
       "      <td>1.1227</td>\n",
       "      <td>0.2526</td>\n",
       "      <td>0.3008</td>\n",
       "      <td>0.2589</td>\n",
       "      <td>0.9988</td>\n",
       "    </tr>\n",
       "    <tr>\n",
       "      <th>3</th>\n",
       "      <td>id_001f94081</td>\n",
       "      <td>id_001f94081_3</td>\n",
       "      <td>A</td>\n",
       "      <td>.</td>\n",
       "      <td>E</td>\n",
       "      <td>0.8686</td>\n",
       "      <td>1.3789</td>\n",
       "      <td>1.0108</td>\n",
       "      <td>1.4552</td>\n",
       "      <td>1.3228</td>\n",
       "    </tr>\n",
       "    <tr>\n",
       "      <th>4</th>\n",
       "      <td>id_001f94081</td>\n",
       "      <td>id_001f94081_4</td>\n",
       "      <td>A</td>\n",
       "      <td>.</td>\n",
       "      <td>E</td>\n",
       "      <td>0.7217</td>\n",
       "      <td>0.6376</td>\n",
       "      <td>0.2635</td>\n",
       "      <td>0.7244</td>\n",
       "      <td>0.7877</td>\n",
       "    </tr>\n",
       "  </tbody>\n",
       "</table>\n",
       "</div>"
      ],
      "text/plain": [
       "             id       id_seqpos sequence structure predicted_loop_type  \\\n",
       "0  id_001f94081  id_001f94081_0        G         .                   E   \n",
       "1  id_001f94081  id_001f94081_1        G         .                   E   \n",
       "2  id_001f94081  id_001f94081_2        A         .                   E   \n",
       "3  id_001f94081  id_001f94081_3        A         .                   E   \n",
       "4  id_001f94081  id_001f94081_4        A         .                   E   \n",
       "\n",
       "   reactivity  deg_Mg_pH10  deg_pH10  deg_Mg_50C  deg_50C  \n",
       "0      0.3297       0.7556    2.3375      0.3581   0.6382  \n",
       "1      1.5693       2.9830    3.5060      2.9683   3.4773  \n",
       "2      1.1227       0.2526    0.3008      0.2589   0.9988  \n",
       "3      0.8686       1.3789    1.0108      1.4552   1.3228  \n",
       "4      0.7217       0.6376    0.2635      0.7244   0.7877  "
      ]
     },
     "execution_count": 18,
     "metadata": {},
     "output_type": "execute_result"
    }
   ],
   "source": [
    "# rearrange training data so that one row represents one position of one sample\n",
    "train_data = []\n",
    "\n",
    "for ID in train['id'].unique():\n",
    "    entry = train.loc[train['id'] == ID]     \n",
    "    for i in range(entry['seq_scored'].values[0]):\n",
    "        sample_dict = {'id': entry['id'].values[0],\n",
    "                       'id_seqpos': str(entry['id'].values[0]) + '_' + str(i),\n",
    "                       'sequence': entry['sequence'].values[0][i],\n",
    "                       'structure': entry['structure'].values[0][i],\n",
    "                       'predicted_loop_type': entry['predicted_loop_type'].values[0][i],\n",
    "                       'reactivity': entry['reactivity'].values[0][i],\n",
    "                       'deg_Mg_pH10': entry['deg_Mg_pH10'].values[0][i],\n",
    "                       'deg_pH10': entry['deg_pH10'].values[0][i],\n",
    "                       'deg_Mg_50C': entry['deg_Mg_50C'].values[0][i],\n",
    "                       'deg_50C': entry['deg_50C'].values[0][i]}\n",
    "        train_data.append(sample_dict)\n",
    "        \n",
    "train_data = pd.DataFrame(train_data)\n",
    "train_data.head()"
   ]
  },
  {
   "cell_type": "code",
   "execution_count": 19,
   "id": "06d62b8f",
   "metadata": {
    "execution": {
     "iopub.execute_input": "2022-01-07T02:48:21.466666Z",
     "iopub.status.busy": "2022-01-07T02:48:21.465940Z",
     "iopub.status.idle": "2022-01-07T02:48:39.819972Z",
     "shell.execute_reply": "2022-01-07T02:48:39.819322Z",
     "shell.execute_reply.started": "2022-01-06T16:54:18.217919Z"
    },
    "papermill": {
     "duration": 18.484568,
     "end_time": "2022-01-07T02:48:39.820131",
     "exception": false,
     "start_time": "2022-01-07T02:48:21.335563",
     "status": "completed"
    },
    "tags": []
   },
   "outputs": [
    {
     "data": {
      "text/html": [
       "<div>\n",
       "<style scoped>\n",
       "    .dataframe tbody tr th:only-of-type {\n",
       "        vertical-align: middle;\n",
       "    }\n",
       "\n",
       "    .dataframe tbody tr th {\n",
       "        vertical-align: top;\n",
       "    }\n",
       "\n",
       "    .dataframe thead th {\n",
       "        text-align: right;\n",
       "    }\n",
       "</style>\n",
       "<table border=\"1\" class=\"dataframe\">\n",
       "  <thead>\n",
       "    <tr style=\"text-align: right;\">\n",
       "      <th></th>\n",
       "      <th>id</th>\n",
       "      <th>id_seqpos</th>\n",
       "      <th>sequence</th>\n",
       "      <th>structure</th>\n",
       "      <th>predicted_loop_type</th>\n",
       "    </tr>\n",
       "  </thead>\n",
       "  <tbody>\n",
       "    <tr>\n",
       "      <th>0</th>\n",
       "      <td>id_00073f8be</td>\n",
       "      <td>id_00073f8be_0</td>\n",
       "      <td>G</td>\n",
       "      <td>.</td>\n",
       "      <td>E</td>\n",
       "    </tr>\n",
       "    <tr>\n",
       "      <th>1</th>\n",
       "      <td>id_00073f8be</td>\n",
       "      <td>id_00073f8be_1</td>\n",
       "      <td>G</td>\n",
       "      <td>.</td>\n",
       "      <td>E</td>\n",
       "    </tr>\n",
       "    <tr>\n",
       "      <th>2</th>\n",
       "      <td>id_00073f8be</td>\n",
       "      <td>id_00073f8be_2</td>\n",
       "      <td>A</td>\n",
       "      <td>.</td>\n",
       "      <td>E</td>\n",
       "    </tr>\n",
       "    <tr>\n",
       "      <th>3</th>\n",
       "      <td>id_00073f8be</td>\n",
       "      <td>id_00073f8be_3</td>\n",
       "      <td>A</td>\n",
       "      <td>.</td>\n",
       "      <td>E</td>\n",
       "    </tr>\n",
       "    <tr>\n",
       "      <th>4</th>\n",
       "      <td>id_00073f8be</td>\n",
       "      <td>id_00073f8be_4</td>\n",
       "      <td>A</td>\n",
       "      <td>.</td>\n",
       "      <td>E</td>\n",
       "    </tr>\n",
       "  </tbody>\n",
       "</table>\n",
       "</div>"
      ],
      "text/plain": [
       "             id       id_seqpos sequence structure predicted_loop_type\n",
       "0  id_00073f8be  id_00073f8be_0        G         .                   E\n",
       "1  id_00073f8be  id_00073f8be_1        G         .                   E\n",
       "2  id_00073f8be  id_00073f8be_2        A         .                   E\n",
       "3  id_00073f8be  id_00073f8be_3        A         .                   E\n",
       "4  id_00073f8be  id_00073f8be_4        A         .                   E"
      ]
     },
     "execution_count": 19,
     "metadata": {},
     "output_type": "execute_result"
    }
   ],
   "source": [
    "# same for the test data\n",
    "test_data = []\n",
    "\n",
    "for ID in test['id'].unique():\n",
    "    entry = test.loc[test['id'] == ID]     \n",
    "    for i in range(entry['seq_length'].values[0]):\n",
    "        sample_dict = {'id': entry['id'].values[0],\n",
    "                       'id_seqpos': str(entry['id'].values[0]) + '_' + str(i),\n",
    "                       'sequence': entry['sequence'].values[0][i],\n",
    "                       'structure': entry['structure'].values[0][i],\n",
    "                       'predicted_loop_type': entry['predicted_loop_type'].values[0][i]}\n",
    "        test_data.append(sample_dict)\n",
    "        \n",
    "test_data = pd.DataFrame(test_data)\n",
    "test_data.head()"
   ]
  },
  {
   "cell_type": "markdown",
   "id": "d4bf1755",
   "metadata": {
    "papermill": {
     "duration": 0.126437,
     "end_time": "2022-01-07T02:48:40.076488",
     "exception": false,
     "start_time": "2022-01-07T02:48:39.950051",
     "status": "completed"
    },
    "tags": []
   },
   "source": [
    "'squence', 'structure' and 'predicted_loop_type' are all floats. We turn them into integers using dictionaries."
   ]
  },
  {
   "cell_type": "code",
   "execution_count": 20,
   "id": "f8bcefa2",
   "metadata": {
    "execution": {
     "iopub.execute_input": "2022-01-07T02:48:40.336478Z",
     "iopub.status.busy": "2022-01-07T02:48:40.335332Z",
     "iopub.status.idle": "2022-01-07T02:48:41.703929Z",
     "shell.execute_reply": "2022-01-07T02:48:41.703293Z",
     "shell.execute_reply.started": "2022-01-06T16:54:36.189169Z"
    },
    "papermill": {
     "duration": 1.498191,
     "end_time": "2022-01-07T02:48:41.704081",
     "exception": false,
     "start_time": "2022-01-07T02:48:40.205890",
     "status": "completed"
    },
    "tags": []
   },
   "outputs": [
    {
     "data": {
      "text/html": [
       "<div>\n",
       "<style scoped>\n",
       "    .dataframe tbody tr th:only-of-type {\n",
       "        vertical-align: middle;\n",
       "    }\n",
       "\n",
       "    .dataframe tbody tr th {\n",
       "        vertical-align: top;\n",
       "    }\n",
       "\n",
       "    .dataframe thead th {\n",
       "        text-align: right;\n",
       "    }\n",
       "</style>\n",
       "<table border=\"1\" class=\"dataframe\">\n",
       "  <thead>\n",
       "    <tr style=\"text-align: right;\">\n",
       "      <th></th>\n",
       "      <th>id</th>\n",
       "      <th>id_seqpos</th>\n",
       "      <th>sequence</th>\n",
       "      <th>structure</th>\n",
       "      <th>predicted_loop_type</th>\n",
       "      <th>reactivity</th>\n",
       "      <th>deg_Mg_pH10</th>\n",
       "      <th>deg_pH10</th>\n",
       "      <th>deg_Mg_50C</th>\n",
       "      <th>deg_50C</th>\n",
       "    </tr>\n",
       "  </thead>\n",
       "  <tbody>\n",
       "    <tr>\n",
       "      <th>0</th>\n",
       "      <td>id_001f94081</td>\n",
       "      <td>id_001f94081_0</td>\n",
       "      <td>1</td>\n",
       "      <td>2</td>\n",
       "      <td>5</td>\n",
       "      <td>0.3297</td>\n",
       "      <td>0.7556</td>\n",
       "      <td>2.3375</td>\n",
       "      <td>0.3581</td>\n",
       "      <td>0.6382</td>\n",
       "    </tr>\n",
       "    <tr>\n",
       "      <th>1</th>\n",
       "      <td>id_001f94081</td>\n",
       "      <td>id_001f94081_1</td>\n",
       "      <td>1</td>\n",
       "      <td>2</td>\n",
       "      <td>5</td>\n",
       "      <td>1.5693</td>\n",
       "      <td>2.9830</td>\n",
       "      <td>3.5060</td>\n",
       "      <td>2.9683</td>\n",
       "      <td>3.4773</td>\n",
       "    </tr>\n",
       "    <tr>\n",
       "      <th>2</th>\n",
       "      <td>id_001f94081</td>\n",
       "      <td>id_001f94081_2</td>\n",
       "      <td>0</td>\n",
       "      <td>2</td>\n",
       "      <td>5</td>\n",
       "      <td>1.1227</td>\n",
       "      <td>0.2526</td>\n",
       "      <td>0.3008</td>\n",
       "      <td>0.2589</td>\n",
       "      <td>0.9988</td>\n",
       "    </tr>\n",
       "    <tr>\n",
       "      <th>3</th>\n",
       "      <td>id_001f94081</td>\n",
       "      <td>id_001f94081_3</td>\n",
       "      <td>0</td>\n",
       "      <td>2</td>\n",
       "      <td>5</td>\n",
       "      <td>0.8686</td>\n",
       "      <td>1.3789</td>\n",
       "      <td>1.0108</td>\n",
       "      <td>1.4552</td>\n",
       "      <td>1.3228</td>\n",
       "    </tr>\n",
       "    <tr>\n",
       "      <th>4</th>\n",
       "      <td>id_001f94081</td>\n",
       "      <td>id_001f94081_4</td>\n",
       "      <td>0</td>\n",
       "      <td>2</td>\n",
       "      <td>5</td>\n",
       "      <td>0.7217</td>\n",
       "      <td>0.6376</td>\n",
       "      <td>0.2635</td>\n",
       "      <td>0.7244</td>\n",
       "      <td>0.7877</td>\n",
       "    </tr>\n",
       "  </tbody>\n",
       "</table>\n",
       "</div>"
      ],
      "text/plain": [
       "             id       id_seqpos  sequence  structure  predicted_loop_type  \\\n",
       "0  id_001f94081  id_001f94081_0         1          2                    5   \n",
       "1  id_001f94081  id_001f94081_1         1          2                    5   \n",
       "2  id_001f94081  id_001f94081_2         0          2                    5   \n",
       "3  id_001f94081  id_001f94081_3         0          2                    5   \n",
       "4  id_001f94081  id_001f94081_4         0          2                    5   \n",
       "\n",
       "   reactivity  deg_Mg_pH10  deg_pH10  deg_Mg_50C  deg_50C  \n",
       "0      0.3297       0.7556    2.3375      0.3581   0.6382  \n",
       "1      1.5693       2.9830    3.5060      2.9683   3.4773  \n",
       "2      1.1227       0.2526    0.3008      0.2589   0.9988  \n",
       "3      0.8686       1.3789    1.0108      1.4552   1.3228  \n",
       "4      0.7217       0.6376    0.2635      0.7244   0.7877  "
      ]
     },
     "execution_count": 20,
     "metadata": {},
     "output_type": "execute_result"
    }
   ],
   "source": [
    "# convert string to float\n",
    "dict_sequence = {'A': 0, 'G' : 1, 'U' : 2, 'C' : 3}\n",
    "dict_structure = {'(' : 0, ')' : 1, '.' : 2}\n",
    "dict_looptype = {'S':0, 'M':1, 'I':2, 'B':3, 'H':4, 'E':5, 'X':6}\n",
    "\n",
    "train_data['sequence'] = train_data['sequence'].replace(dict_sequence)\n",
    "train_data['structure'] = train_data['structure'].replace(dict_structure)\n",
    "train_data['predicted_loop_type'] = train_data['predicted_loop_type'].replace(dict_looptype)\n",
    "\n",
    "test_data['sequence'] = test_data['sequence'].replace(dict_sequence)\n",
    "test_data['structure'] = test_data['structure'].replace(dict_structure)\n",
    "test_data['predicted_loop_type'] = test_data['predicted_loop_type'].replace(dict_looptype)\n",
    "\n",
    "train_data.head()"
   ]
  },
  {
   "cell_type": "code",
   "execution_count": 21,
   "id": "d96e6d17",
   "metadata": {
    "execution": {
     "iopub.execute_input": "2022-01-07T02:48:41.973790Z",
     "iopub.status.busy": "2022-01-07T02:48:41.972595Z",
     "iopub.status.idle": "2022-01-07T02:48:41.981500Z",
     "shell.execute_reply": "2022-01-07T02:48:41.981976Z",
     "shell.execute_reply.started": "2022-01-06T16:54:37.404134Z"
    },
    "papermill": {
     "duration": 0.145904,
     "end_time": "2022-01-07T02:48:41.982177",
     "exception": false,
     "start_time": "2022-01-07T02:48:41.836273",
     "status": "completed"
    },
    "tags": []
   },
   "outputs": [],
   "source": [
    "# split data in features and labels\n",
    "X_train = train_data.drop(['reactivity', 'deg_Mg_pH10', 'deg_pH10', 'deg_Mg_50C', 'deg_50C'], axis=1)\n",
    "Y_train = train_data[['reactivity', 'deg_Mg_pH10', 'deg_pH10', 'deg_Mg_50C', 'deg_50C']]"
   ]
  },
  {
   "cell_type": "code",
   "execution_count": 22,
   "id": "4dd17404",
   "metadata": {
    "execution": {
     "iopub.execute_input": "2022-01-07T02:48:42.244529Z",
     "iopub.status.busy": "2022-01-07T02:48:42.243443Z",
     "iopub.status.idle": "2022-01-07T02:48:42.271903Z",
     "shell.execute_reply": "2022-01-07T02:48:42.271178Z",
     "shell.execute_reply.started": "2022-01-06T16:54:37.432853Z"
    },
    "papermill": {
     "duration": 0.160762,
     "end_time": "2022-01-07T02:48:42.272056",
     "exception": false,
     "start_time": "2022-01-07T02:48:42.111294",
     "status": "completed"
    },
    "tags": []
   },
   "outputs": [
    {
     "data": {
      "text/plain": [
       "((86441, 5), (21611, 5), (86441, 5), (21611, 5))"
      ]
     },
     "execution_count": 22,
     "metadata": {},
     "output_type": "execute_result"
    }
   ],
   "source": [
    "# split training set and test set\n",
    "X_train, X_val, Y_train, Y_val = train_test_split(X_train, Y_train, test_size=0.2)\n",
    "X_train.shape, X_val.shape, Y_train.shape, Y_val.shape"
   ]
  },
  {
   "cell_type": "markdown",
   "id": "594d2fb9",
   "metadata": {
    "papermill": {
     "duration": 0.127786,
     "end_time": "2022-01-07T02:48:42.533216",
     "exception": false,
     "start_time": "2022-01-07T02:48:42.405430",
     "status": "completed"
    },
    "tags": []
   },
   "source": [
    "##### 2.2 Define Loss Function"
   ]
  },
  {
   "cell_type": "code",
   "execution_count": 23,
   "id": "5da7a1a1",
   "metadata": {
    "execution": {
     "iopub.execute_input": "2022-01-07T02:48:42.793531Z",
     "iopub.status.busy": "2022-01-07T02:48:42.792769Z",
     "iopub.status.idle": "2022-01-07T02:48:42.795962Z",
     "shell.execute_reply": "2022-01-07T02:48:42.795405Z",
     "shell.execute_reply.started": "2022-01-06T16:54:37.465618Z"
    },
    "papermill": {
     "duration": 0.136103,
     "end_time": "2022-01-07T02:48:42.796111",
     "exception": false,
     "start_time": "2022-01-07T02:48:42.660008",
     "status": "completed"
    },
    "tags": []
   },
   "outputs": [],
   "source": [
    "# loss function used for scoring\n",
    "def mcrmse_loss(y_true, y_pred, N = 5):\n",
    "    \"\"\"\n",
    "    Calculates competition eval metric\n",
    "    \"\"\"\n",
    "    n = len(y_true)\n",
    "    return np.sum(np.sqrt(np.sum((y_true - y_pred)**2, axis = 0)/n)) / N"
   ]
  },
  {
   "cell_type": "markdown",
   "id": "983680a3",
   "metadata": {
    "execution": {
     "iopub.execute_input": "2022-01-06T13:19:34.936791Z",
     "iopub.status.busy": "2022-01-06T13:19:34.936472Z",
     "iopub.status.idle": "2022-01-06T13:19:34.941252Z",
     "shell.execute_reply": "2022-01-06T13:19:34.940322Z",
     "shell.execute_reply.started": "2022-01-06T13:19:34.936756Z"
    },
    "papermill": {
     "duration": 0.13436,
     "end_time": "2022-01-07T02:48:43.062764",
     "exception": false,
     "start_time": "2022-01-07T02:48:42.928404",
     "status": "completed"
    },
    "tags": []
   },
   "source": [
    "##### 2.3 Construct Model"
   ]
  },
  {
   "cell_type": "code",
   "execution_count": 24,
   "id": "e5e84d12",
   "metadata": {
    "execution": {
     "iopub.execute_input": "2022-01-07T02:48:43.331371Z",
     "iopub.status.busy": "2022-01-07T02:48:43.330539Z",
     "iopub.status.idle": "2022-01-07T02:48:43.336143Z",
     "shell.execute_reply": "2022-01-07T02:48:43.335555Z",
     "shell.execute_reply.started": "2022-01-06T16:54:37.473734Z"
    },
    "papermill": {
     "duration": 0.140652,
     "end_time": "2022-01-07T02:48:43.336350",
     "exception": false,
     "start_time": "2022-01-07T02:48:43.195698",
     "status": "completed"
    },
    "tags": []
   },
   "outputs": [],
   "source": [
    "# XGBoost Regressor model, best parameters after testing\n",
    "xgb = XGBRegressor(\n",
    "    n_estimators=800,\n",
    "    eval_metric='rmse',\n",
    "    learning_rate=0.1,\n",
    "    subsample=0.8, # prevent overfitting\n",
    "    colsample_bytree=0.8 # prevent overfitting\n",
    ")"
   ]
  },
  {
   "cell_type": "code",
   "execution_count": 25,
   "id": "522f913f",
   "metadata": {
    "execution": {
     "iopub.execute_input": "2022-01-07T02:48:43.604352Z",
     "iopub.status.busy": "2022-01-07T02:48:43.603558Z",
     "iopub.status.idle": "2022-01-07T02:48:43.628716Z",
     "shell.execute_reply": "2022-01-07T02:48:43.629246Z",
     "shell.execute_reply.started": "2022-01-06T16:54:37.486461Z"
    },
    "papermill": {
     "duration": 0.161821,
     "end_time": "2022-01-07T02:48:43.629438",
     "exception": false,
     "start_time": "2022-01-07T02:48:43.467617",
     "status": "completed"
    },
    "tags": []
   },
   "outputs": [
    {
     "data": {
      "text/plain": [
       "((86441, 3), (21611, 3), (457953, 3))"
      ]
     },
     "execution_count": 25,
     "metadata": {},
     "output_type": "execute_result"
    }
   ],
   "source": [
    "# delete from X features not used for prediction ('id', 'id_seqpos')\n",
    "features = ['sequence', 'structure', 'predicted_loop_type']\n",
    "targets = ['reactivity', 'deg_Mg_pH10', 'deg_pH10', 'deg_Mg_50C', 'deg_50C']\n",
    "sub = pd.DataFrame(test_data['id_seqpos'])\n",
    "feature_importances = pd.DataFrame(index=features)\n",
    "# train X\n",
    "tr_X = X_train[features]\n",
    "# validation X\n",
    "vl_X = X_val[features]\n",
    "# test X\n",
    "ts_X = test_data[features]\n",
    "tr_X.shape, vl_X.shape, ts_X.shape"
   ]
  },
  {
   "cell_type": "code",
   "execution_count": 26,
   "id": "a9bc5abc",
   "metadata": {
    "execution": {
     "iopub.execute_input": "2022-01-07T02:48:43.901542Z",
     "iopub.status.busy": "2022-01-07T02:48:43.897302Z",
     "iopub.status.idle": "2022-01-07T02:50:10.727871Z",
     "shell.execute_reply": "2022-01-07T02:50:10.728680Z",
     "shell.execute_reply.started": "2022-01-06T16:54:37.555448Z"
    },
    "papermill": {
     "duration": 86.969222,
     "end_time": "2022-01-07T02:50:10.728962",
     "exception": false,
     "start_time": "2022-01-07T02:48:43.759740",
     "status": "completed"
    },
    "tags": []
   },
   "outputs": [
    {
     "name": "stdout",
     "output_type": "stream",
     "text": [
      "reactivity loss : 0.0764024782149597\n",
      "deg_Mg_pH10 loss : 0.09584439400165636\n",
      "deg_pH10 loss : 0.08832974042589657\n",
      "deg_Mg_50C loss : 0.0870414383808795\n",
      "deg_50C loss : 0.07380866385952459\n"
     ]
    }
   ],
   "source": [
    "# train and test\n",
    "for i in range(5):\n",
    "    tr_Y, vl_Y = Y_train[targets[i]], Y_val[targets[i]]\n",
    "    # train\n",
    "    xgb.fit(tr_X, tr_Y)\n",
    "    feature_importances.insert(i, targets[i], xgb.feature_importances_)\n",
    "    # validate\n",
    "    vl_pred = xgb.predict(vl_X)\n",
    "    loss = mcrmse_loss(vl_Y, vl_pred)\n",
    "    print(f'{targets[i]} loss : {loss}')\n",
    "    # test\n",
    "    sub[targets[i]] = xgb.predict(ts_X)"
   ]
  },
  {
   "cell_type": "code",
   "execution_count": 27,
   "id": "fb3e3653",
   "metadata": {
    "execution": {
     "iopub.execute_input": "2022-01-07T02:50:11.027462Z",
     "iopub.status.busy": "2022-01-07T02:50:11.026332Z",
     "iopub.status.idle": "2022-01-07T02:50:11.900203Z",
     "shell.execute_reply": "2022-01-07T02:50:11.900942Z",
     "shell.execute_reply.started": "2022-01-06T16:56:09.296725Z"
    },
    "papermill": {
     "duration": 1.031733,
     "end_time": "2022-01-07T02:50:11.901146",
     "exception": false,
     "start_time": "2022-01-07T02:50:10.869413",
     "status": "completed"
    },
    "tags": []
   },
   "outputs": [
    {
     "data": {
      "image/png": "[encoded data removed]",
      "text/plain": [
       "<Figure size 864x576 with 6 Axes>"
      ]
     },
     "metadata": {},
     "output_type": "display_data"
    }
   ],
   "source": [
    "# feature importances visualization\n",
    "fig, ax = plt.subplots(3, 2, figsize = (12, 8))\n",
    "fig.suptitle('Feature Importances Visualization')\n",
    "for i in range(5):\n",
    "    sns.barplot(x = features, y = targets[i], data=feature_importances, ax=ax[i // 2][i % 2])\n",
    "plt.tight_layout()\n",
    "plt.show()"
   ]
  },
  {
   "cell_type": "code",
   "execution_count": 28,
   "id": "16238666",
   "metadata": {
    "execution": {
     "iopub.execute_input": "2022-01-07T02:50:12.204515Z",
     "iopub.status.busy": "2022-01-07T02:50:12.203813Z",
     "iopub.status.idle": "2022-01-07T02:50:16.063011Z",
     "shell.execute_reply": "2022-01-07T02:50:16.062452Z",
     "shell.execute_reply.started": "2022-01-06T16:56:10.385906Z"
    },
    "papermill": {
     "duration": 3.993668,
     "end_time": "2022-01-07T02:50:16.063173",
     "exception": false,
     "start_time": "2022-01-07T02:50:12.069505",
     "status": "completed"
    },
    "tags": []
   },
   "outputs": [
    {
     "data": {
      "text/plain": [
       "((457953, 6),\n",
       "         id_seqpos  reactivity  deg_Mg_pH10  deg_pH10  deg_Mg_50C   deg_50C\n",
       " 0  id_00073f8be_0    0.907978     1.172703  1.962681    1.115597  1.111055\n",
       " 1  id_00073f8be_1    0.907978     1.172703  1.962681    1.115597  1.111055\n",
       " 2  id_00073f8be_2    0.651081     0.538713  0.615610    0.681124  0.686707\n",
       " 3  id_00073f8be_3    0.651081     0.538713  0.615610    0.681124  0.686707\n",
       " 4  id_00073f8be_4    0.651081     0.538713  0.615610    0.681124  0.686707)"
      ]
     },
     "execution_count": 28,
     "metadata": {},
     "output_type": "execute_result"
    }
   ],
   "source": [
    "# submission file\n",
    "sub.to_csv('submission.csv', index=False)\n",
    "sub.shape, sub.head()"
   ]
  },
  {
   "cell_type": "markdown",
   "id": "3b8e5290",
   "metadata": {
    "papermill": {
     "duration": 0.130382,
     "end_time": "2022-01-07T02:50:16.324599",
     "exception": false,
     "start_time": "2022-01-07T02:50:16.194217",
     "status": "completed"
    },
    "tags": []
   },
   "source": [
    "##### 2.4 Visualize Results"
   ]
  },
  {
   "cell_type": "markdown",
   "id": "055a6fbc",
   "metadata": {
    "papermill": {
     "duration": 0.130746,
     "end_time": "2022-01-07T02:50:16.586134",
     "exception": false,
     "start_time": "2022-01-07T02:50:16.455388",
     "status": "completed"
    },
    "tags": []
   },
   "source": [
    "Finally, we pick up several samples randomly and visualize our prediction results."
   ]
  },
  {
   "cell_type": "code",
   "execution_count": 29,
   "id": "47ba9602",
   "metadata": {
    "execution": {
     "iopub.execute_input": "2022-01-07T02:50:16.908459Z",
     "iopub.status.busy": "2022-01-07T02:50:16.907749Z",
     "iopub.status.idle": "2022-01-07T02:50:20.458704Z",
     "shell.execute_reply": "2022-01-07T02:50:20.457936Z",
     "shell.execute_reply.started": "2022-01-06T16:56:14.086996Z"
    },
    "papermill": {
     "duration": 3.741603,
     "end_time": "2022-01-07T02:50:20.458868",
     "exception": false,
     "start_time": "2022-01-07T02:50:16.717265",
     "status": "completed"
    },
    "tags": []
   },
   "outputs": [
    {
     "name": "stderr",
     "output_type": "stream",
     "text": [
      "/opt/conda/lib/python3.7/site-packages/ipykernel_launcher.py:2: FutureWarning: Columnar iteration over characters will be deprecated in future releases.\n",
      "  \n"
     ]
    }
   ],
   "source": [
    "# prediction results visualization\n",
    "sub['id'], sub['seqpos'] = sub['id_seqpos'].str.rsplit('_', 1).str\n",
    "sub['seqpos'] = sub['seqpos'].astype(int)\n",
    "sub = sub.sort_values(by=['id', 'seqpos']).reset_index(drop=True)\n",
    "# sampling\n",
    "reac0 = sub.groupby('id')['reactivity'].apply(list)[0]\n",
    "reac1 = sub.groupby('id')['reactivity'].apply(list)[1000]\n",
    "reac2 = sub.groupby('id')['reactivity'].apply(list)[2000]\n",
    "reac3 = sub.groupby('id')['reactivity'].apply(list)[3000]"
   ]
  },
  {
   "cell_type": "code",
   "execution_count": 30,
   "id": "c94b4c28",
   "metadata": {
    "execution": {
     "iopub.execute_input": "2022-01-07T02:50:20.742109Z",
     "iopub.status.busy": "2022-01-07T02:50:20.741071Z",
     "iopub.status.idle": "2022-01-07T02:50:21.343475Z",
     "shell.execute_reply": "2022-01-07T02:50:21.344171Z",
     "shell.execute_reply.started": "2022-01-06T16:56:18.273154Z"
    },
    "papermill": {
     "duration": 0.749982,
     "end_time": "2022-01-07T02:50:21.344367",
     "exception": false,
     "start_time": "2022-01-07T02:50:20.594385",
     "status": "completed"
    },
    "tags": []
   },
   "outputs": [
    {
     "data": {
      "image/png": "[encoded data removed]",
      "text/plain": [
       "<Figure size 432x288 with 4 Axes>"
      ]
     },
     "metadata": {},
     "output_type": "display_data"
    }
   ],
   "source": [
    "# predicted reactivity vs position plot\n",
    "fig, ax = plt.subplots(4, 1, sharex=True)\n",
    "fig.suptitle('Predicted Reactivity vs Position')\n",
    "sns.lineplot(data = reac0, ax=ax[0])\n",
    "sns.lineplot(data = reac1, ax=ax[1])\n",
    "sns.lineplot(data = reac2, ax=ax[2])\n",
    "sns.lineplot(data = reac3, ax=ax[3])\n",
    "plt.show()"
   ]
  },
  {
   "cell_type": "code",
   "execution_count": null,
   "id": "ad09b07d",
   "metadata": {
    "papermill": {
     "duration": 0.139999,
     "end_time": "2022-01-07T02:50:21.619500",
     "exception": false,
     "start_time": "2022-01-07T02:50:21.479501",
     "status": "completed"
    },
    "tags": []
   },
   "outputs": [],
   "source": []
  }
 ],
 "metadata": {
  "kernelspec": {
   "display_name": "Python 3",
   "language": "python",
   "name": "python3"
  },
  "language_info": {
   "codemirror_mode": {
    "name": "ipython",
    "version": 3
   },
   "file_extension": ".py",
   "mimetype": "text/x-python",
   "name": "python",
   "nbconvert_exporter": "python",
   "pygments_lexer": "ipython3",
   "version": "3.7.12"
  },
  "papermill": {
   "default_parameters": {},
   "duration": 262.110606,
   "end_time": "2022-01-07T02:50:22.767347",
   "environment_variables": {},
   "exception": null,
   "input_path": "__notebook__.ipynb",
   "output_path": "__notebook__.ipynb",
   "parameters": {},
   "start_time": "2022-01-07T02:46:00.656741",
   "version": "2.3.3"
  }
 },
 "nbformat": 4,
 "nbformat_minor": 5
}
